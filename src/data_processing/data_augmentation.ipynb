{
 "cells": [
  {
   "cell_type": "code",
   "execution_count": 1,
   "metadata": {},
   "outputs": [],
   "source": [
    "import numpy as np\n",
    "import matplotlib.pyplot as plt\n",
    "\n",
    "from simulation import Simulation\n",
    "from augmentation_pipeline import AugmentationPipeline"
   ]
  },
  {
   "cell_type": "markdown",
   "metadata": {},
   "source": [
    "First, we identiy all files in the directory. (to-do, once data normalization is finished)"
   ]
  },
  {
   "cell_type": "markdown",
   "metadata": {},
   "source": [
    "##### Steps\n",
    "1. Create a simulation object\n",
    "2. Create a pipeline. This pipeline is randomized upon creation.\n",
    "3. Create a new simulation object from this pipeline.\n",
    "4. Check if the new simulation object is not the same as the original (by random chance).\n",
    "    - If it is the same, try again.\n",
    "5. From each simulation, create 4 new (augmented simulations).\n",
    "6. Save the simulations."
   ]
  },
  {
   "cell_type": "code",
   "execution_count": 2,
   "metadata": {},
   "outputs": [],
   "source": [
    "save_folder = \"../data/raw_datasets\"\n",
    "\n",
    "# Second part is for if we also want to include test 1, 2 and 3.\n",
    "sim_numbers = list(range(1, 80+1)) # + list(range(500,519+1)) + list(range(10000, 10020+1)) + list(range(15001, 15010+1))\n",
    "grid_sizes = 80 * [64] # + 20 * [64] + 21 * [64] + 10 * [128]\n",
    "\n",
    "# Used for testing:\n",
    "# sim_numbers = [1]\n",
    "# grid_sizes = [64]\n",
    "\n",
    "store_augmented_data_folder = \"../data/augmented_data\"\n",
    "\n",
    "for sim_number, number_grids in zip(sim_numbers, grid_sizes):\n",
    "    # Load a simulation\n",
    "    sim = Simulation.load_simulation(save_folder, sim_number, number_grids)\n",
    "    sim.save_simulation(store_augmented_data_folder, f\"{sim_number}_o\")\n",
    "\n",
    "    for copy in [\"a\", \"b\", \"c\", \"d\"]:\n",
    "\n",
    "        # eps is the sum of squared differences between the newly generated topography and the old topography. \n",
    "        # If this is 0, the pipeline should re-run.\n",
    "        eps = 0\n",
    "        while eps < 1e-10:\n",
    "            # Randomly initialize an augmentation\n",
    "            aug_pipeline = AugmentationPipeline()\n",
    "            aug_sim = aug_pipeline.transform_simulation(sim)\n",
    "\n",
    "            # Calculate sum of square differences to make sure we did not generate the same data again.\n",
    "            eps = np.sum((sim.topography - aug_sim.topography)**2)\n",
    "        \n",
    "        aug_sim.save_simulation(store_augmented_data_folder, f\"{sim_number}_{copy}\")\n",
    "\n",
    "        plot = False\n",
    "        # Plot every 10th generated simulation.\n",
    "        if (sim_number%10==0 and plot):\n",
    "            fig, axs = plt.subplots(1,2,figsize=(8,4))\n",
    "            axs[0].imshow(sim.topography, cmap=\"terrain\", origin=\"lower\")\n",
    "            axs[1].imshow(aug_sim.topography, cmap=\"terrain\", origin=\"lower\")\n",
    "            \n",
    "            axs[0].set_title(\"Original\")\n",
    "            axs[1].set_title(\"Augmented\")"
   ]
  },
  {
   "cell_type": "code",
   "execution_count": 3,
   "metadata": {},
   "outputs": [],
   "source": [
    "# aug_sim.save_simulation(store_augmented_data_folder, sim_number)"
   ]
  }
 ],
 "metadata": {
  "kernelspec": {
   "display_name": "dsaie",
   "language": "python",
   "name": "python3"
  },
  "language_info": {
   "codemirror_mode": {
    "name": "ipython",
    "version": 3
   },
   "file_extension": ".py",
   "mimetype": "text/x-python",
   "name": "python",
   "nbconvert_exporter": "python",
   "pygments_lexer": "ipython3",
   "version": "3.9.17"
  }
 },
 "nbformat": 4,
 "nbformat_minor": 2
}

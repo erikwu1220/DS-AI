{
 "cells": [
  {
   "cell_type": "code",
   "execution_count": 1,
   "metadata": {},
   "outputs": [],
   "source": [
    "import os\n",
    "import sys\n",
    "import pathlib\n",
    "import time\n",
    "\n",
    "import numpy as np\n",
    "import pandas as pd "
   ]
  },
  {
   "cell_type": "code",
   "execution_count": 2,
   "metadata": {},
   "outputs": [],
   "source": [
    "cwd = pathlib.Path().resolve()\n",
    "src = cwd.parent\n",
    "root = src.parent\n",
    "sys.path.append(str(src))"
   ]
  },
  {
   "cell_type": "code",
   "execution_count": null,
   "metadata": {},
   "outputs": [],
   "source": [
    "def normalize(\n",
    "        save_path,\n",
    "        normalize_test_data=True,\n",
    "        normalize_train_validation_data=True,\n",
    "):\n",
    "    \n",
    "\n",
    "\n",
    "    statistics = pd.DataFrame()\n",
    "    \n",
    "    return statistics\n",
    "\n",
    "def get_mean_and_variance(filename, folder):\n",
    "    \"\"\"Gets mean and variance for a given simulation. These are calculated for the DEM, VX, VY, WD. \n",
    "    The statistics for the DEM are constant throughout a simulation.\n",
    "    The statistics for the VX, VY, WD are calculated from the LAST timestep of a simulation.\"\"\"\n",
    "\n",
    "    with np.loadtxt(...) as dem:\n",
    "        dem_mean = ...\n",
    "        dem_std = ...\n",
    "\n",
    "    with np.loadtxt(...) as vx:\n",
    "        vx = vx[:]\n",
    "        vx_mean = ...\n",
    "        vx_std = ...\n",
    "\n",
    "    with np.loadtxt(...) as vy:\n",
    "        vy = vy[:]\n",
    "        vy_mean = ...\n",
    "        vy_std = ...\n",
    "\n",
    "    with np.loadtxt(...) as wd:\n",
    "        wd = wd[:]\n",
    "        wd_mean = ...\n",
    "        wd_std = ...\n",
    "\n",
    "    stats = {'dem_mean':dem_mean, 'dem_std':dem_std,\n",
    "             'vx_mean':vx_mean, 'vx_std':vx_std,\n",
    "             'vy_mean':vy_mean, 'vy_std':vy_std,\n",
    "             'wd_mean':wd_mean, 'wd_std':wd_std}\n",
    "    \n",
    "    return stats\n",
    "\n",
    "\n"
   ]
  }
 ],
 "metadata": {
  "kernelspec": {
   "display_name": "dsaie",
   "language": "python",
   "name": "python3"
  },
  "language_info": {
   "codemirror_mode": {
    "name": "ipython",
    "version": 3
   },
   "file_extension": ".py",
   "mimetype": "text/x-python",
   "name": "python",
   "nbconvert_exporter": "python",
   "pygments_lexer": "ipython3",
   "version": "3.9.17"
  }
 },
 "nbformat": 4,
 "nbformat_minor": 2
}

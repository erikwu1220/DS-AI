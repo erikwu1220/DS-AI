{
 "cells": [
  {
   "cell_type": "code",
   "execution_count": 2,
   "metadata": {},
   "outputs": [],
   "source": [
    "import os\n",
    "import sys\n",
    "import pathlib\n",
    "import time\n",
    "\n",
    "import numpy as np\n",
    "import pandas as pd "
   ]
  },
  {
   "cell_type": "code",
   "execution_count": 3,
   "metadata": {},
   "outputs": [],
   "source": [
    "cwd = pathlib.Path().resolve()\n",
    "src = cwd.parent\n",
    "root = src.parent\n",
    "sys.path.append(str(src))"
   ]
  },
  {
   "cell_type": "code",
   "execution_count": 4,
   "metadata": {},
   "outputs": [],
   "source": [
    "def normalize_training_data(\n",
    "        save_path,\n",
    "        normalize_test_data=True,\n",
    "        normalize_train_validation_data=True,\n",
    "):\n",
    "    \n",
    "\n",
    "\n",
    "    statistics = pd.DataFrame()\n",
    "    \n",
    "    return statistics\n",
    "\n",
    "def get_scalings(sim_number, \n",
    "                 sim_letter='o',\n",
    "                 folder='data/augmented_data/',\n",
    "                 timestep=-1,\n",
    "                 include_velocities=False):\n",
    "    \"\"\"Gets mean and variance for a given simulation. These are calculated for the DEM, VX, VY, WD. \n",
    "    The statistics for the DEM are constant throughout a simulation.\n",
    "    The statistics for the VX, VY, WD are calculated from the LAST timestep of a simulation.\n",
    "    \"folder\" refers to the folder containing the DEM, VX, VY, WD folders.\n",
    "    \"timestep\" refers to the timestep to use when calculating the normalization parameters for VX, VY, WD.\n",
    "    \"include_velocities\": set to True in order to also calculate statistics for velocities.\n",
    "    \"\"\"\n",
    "\n",
    "    stats = {}\n",
    "\n",
    "    DEM_path = folder + f'DEM/DEM_{str(int(sim_number))}_{str(sim_letter)}.txt'\n",
    "    WD_path = folder + f'WD/WD_{str(int(sim_number))}_{str(sim_letter)}.txt'\n",
    "\n",
    "    with open(DEM_path, 'r') as file:\n",
    "        data = np.loadtxt(file)[:,-1]\n",
    "\n",
    "        mean = np.mean(data)\n",
    "        std = np.std(data)\n",
    "        minimum = np.min(data)\n",
    "        maximum = np.max(data)\n",
    "\n",
    "        stats['DEM'] = {'mean':mean,\n",
    "                        'std':std,\n",
    "                        'min':minimum,\n",
    "                        'max':maximum}\n",
    "        \n",
    "    with open(WD_path, 'r') as file:\n",
    "        data = np.loadtxt(file)[:,-1]\n",
    "\n",
    "        mean = np.mean(data)\n",
    "        std = np.std(data)\n",
    "        minimum = np.min(data)\n",
    "        maximum = np.max(data)\n",
    "\n",
    "        stats['WD'] = {'mean':mean,\n",
    "                       'std':std,\n",
    "                       'min':minimum,\n",
    "                       'max':maximum}\n",
    "\n",
    "    if include_velocities:\n",
    "        VX_path = folder + f'VX/VX_{str(int(sim_number))}_{str(sim_letter)}.txt'\n",
    "        VY_path = folder + f'VY/VY_{str(int(sim_number))}_{str(sim_letter)}.txt'\n",
    "\n",
    "        with open(VX_path, 'r') as file:\n",
    "            data = np.loadtxt(file)[:,-1]\n",
    "\n",
    "            mean = np.mean(data)\n",
    "            std = np.std(data)\n",
    "            minimum = np.min(data)\n",
    "            maximum = np.max(data)\n",
    "\n",
    "            stats['VX'] = {'mean':mean,\n",
    "                           'std':std,\n",
    "                           'min':minimum,\n",
    "                           'max':maximum}\n",
    "            \n",
    "        with open(VY_path, 'r') as file:\n",
    "            data = np.loadtxt(file)[:,-1]\n",
    "\n",
    "            mean = np.mean(data)\n",
    "            std = np.std(data)\n",
    "            minimum = np.min(data)\n",
    "            maximum = np.max(data)\n",
    "\n",
    "            stats['VY'] = {'mean':mean,\n",
    "                           'std':std,\n",
    "                           'min':minimum,\n",
    "                           'max':maximum}\n",
    "    return stats\n",
    "\n",
    "\n"
   ]
  },
  {
   "cell_type": "code",
   "execution_count": 16,
   "metadata": {},
   "outputs": [
    {
     "name": "stdout",
     "output_type": "stream",
     "text": [
      "C:\\Users\\khdeb\\Projects\\DS-AI/data/augmented_data/DEM/DEM_1_o.txt\n",
      "[[ 0.      -0.43378 -0.97414 ...  1.39494  1.19744  0.88844]\n",
      " [ 0.37679 -0.05384 -0.587   ...  1.30936  0.99169  0.58494]\n",
      " [ 0.70629  0.29072 -0.22081 ...  1.12016  0.68503  0.18876]\n",
      " ...\n",
      " [-0.17492 -0.33368 -0.61968 ...  1.12394  1.04505  0.79886]\n",
      " [-0.1829  -0.2944  -0.52223 ...  0.62891  0.64647  0.5163 ]\n",
      " [-0.16543 -0.23838 -0.42058 ...  0.25557  0.37452  0.35797]]\n",
      "(64, 64)\n"
     ]
    }
   ],
   "source": [
    "\n",
    "\n",
    "folder_path = str(root) + \"/data/augmented_data/\"\n",
    "DEM_path = folder_path + \"DEM/DEM_1_o.txt\"\n",
    "print(DEM_path)\n",
    "\n",
    "with open(DEM_path, 'r') as DEM_file:\n",
    "    DEM = np.loadtxt(DEM_file)[:,-1]\n",
    "    mean = np.mean()\n",
    "    std = np.std()\n",
    "    \n"
   ]
  },
  {
   "cell_type": "code",
   "execution_count": 19,
   "metadata": {},
   "outputs": [
    {
     "name": "stdout",
     "output_type": "stream",
     "text": [
      "C:\\Users\\khdeb\\Projects\\DS-AI/data/augmented_data/WD/WD_1_o.txt\n",
      "[0.     0.     0.     ... 0.     1.0697 0.    ]\n",
      "(4096,)\n"
     ]
    }
   ],
   "source": [
    "folder_path = str(root) + \"/data/augmented_data/\"\n",
    "WD_path = folder_path + \"WD/WD_1_o.txt\"\n",
    "print(WD_path)\n",
    "\n",
    "with open(WD_path, 'r') as file:\n",
    "    data = np.loadtxt(file)[:, -1]\n",
    "    print(data)\n",
    "    print(data.shape)\n",
    "    # mean = np.mean()\n",
    "    # std = np.std()"
   ]
  },
  {
   "cell_type": "code",
   "execution_count": null,
   "metadata": {},
   "outputs": [],
   "source": []
  }
 ],
 "metadata": {
  "kernelspec": {
   "display_name": "dsaie",
   "language": "python",
   "name": "python3"
  },
  "language_info": {
   "codemirror_mode": {
    "name": "ipython",
    "version": 3
   },
   "file_extension": ".py",
   "mimetype": "text/x-python",
   "name": "python",
   "nbconvert_exporter": "python",
   "pygments_lexer": "ipython3",
   "version": "3.9.17"
  }
 },
 "nbformat": 4,
 "nbformat_minor": 2
}

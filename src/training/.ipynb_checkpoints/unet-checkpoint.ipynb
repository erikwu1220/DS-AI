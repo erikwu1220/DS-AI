{
 "cells": [
  {
   "cell_type": "code",
   "execution_count": null,
   "metadata": {},
   "outputs": [],
   "source": [
    "import sys\n",
    "import pathlib\n",
    "\n",
    "import matplotlib.pyplot as plt\n",
    "import numpy as np\n",
    "import random\n",
    "import torch\n",
    "import torch.nn as nn\n",
    "import torch.optim as optim\n",
    "import torch.nn.functional as F\n",
    "\n",
    "from torch.utils.data import DataLoader, TensorDataset\n",
    "from sklearn.model_selection import train_test_split\n",
    "\n",
    "# Local\n",
    "cwd = pathlib.Path().resolve()\n",
    "src = cwd.parent\n",
    "root = src.parent\n",
    "sys.path.append(str(src))\n",
    "\n",
    "from utils.utils import count_parameters, create_sequence\n",
    "from utils.train import train_and_validate\n",
    "from utils.watertopo import WaterTopo\n",
    "\n",
    "# Important for animation to run inline\n",
    "%matplotlib inline\n",
    "%matplotlib ipympl"
   ]
  },
  {
   "cell_type": "code",
   "execution_count": null,
   "metadata": {},
   "outputs": [],
   "source": [
    "#initialize GPU -  In case of windows use cuda instead of nps\n",
    "device = torch.device('cuda' if torch.cuda.is_available() else 'cpu')\n",
    "\n",
    "print(\"Is CUDA enabled?\",torch.cuda.is_available())\n",
    "print(\"Number of GPUs\",torch.cuda.device_count())\n",
    "print('Using device:', device)\n",
    "\n",
    "#Additional Info when using cuda\n",
    "if device.type == 'cuda':\n",
    "    print(torch.cuda.get_device_name(0))\n",
    "    print('Memory Usage:')\n",
    "    print('Allocated:', round(torch.cuda.memory_allocated(0)/1024**3,1), 'GB')\n",
    "    print('Cached:   ', round(torch.cuda.memory_reserved(0)/1024**3,1), 'GB')"
   ]
  },
  {
   "cell_type": "code",
   "execution_count": null,
   "metadata": {},
   "outputs": [],
   "source": [
    "from models.unet import UNet\n",
    "model = UNet(2, [32, 64], 1, bilinear=False)\n",
    "\n",
    "print(f\"U-Net --> num. trainable parameters:{count_parameters(model):8d}\")"
   ]
  },
  {
   "cell_type": "code",
   "execution_count": null,
   "metadata": {},
   "outputs": [],
   "source": [
    "train = True   # Train = True/False depending on whether the model has been trained yet."
   ]
  },
  {
   "cell_type": "code",
   "execution_count": null,
   "metadata": {},
   "outputs": [],
   "source": [
    "sim_amount = 80\n",
    "use_augmented_data = False\n",
    "T = 1\n",
    "H = 1\n",
    "training_size = 0.8\n",
    "batch_size = 10\n",
    "num_epochs = 200\n",
    "lr = 0.0005\n",
    "criterion = nn.MSELoss()\n",
    "optimizer = optim.AdamW\n",
    "model_name = \"unet_orig_data_tskip5\"\n",
    "\n",
    "# defining the save path\n",
    "save_path = \"../results/trained_models/\" + model_name"
   ]
  },
  {
   "cell_type": "code",
   "execution_count": null,
   "metadata": {},
   "outputs": [],
   "source": [
    "if train:\n",
    "    sims = WaterTopo.load_simulations(str(root)+\"/data/normalized_data/tra_val\", sim_amount=sim_amount, number_grids=64, use_augmented_data=use_augmented_data)\n",
    "\n",
    "    X, Y = create_sequence(sims, T, H)\n",
    "    X, Y = X.squeeze(1), Y.squeeze(1)\n",
    "\n",
    "    # We keep track of indexes of train and validation.\n",
    "    X_tra, X_tst, Y_tra, Y_tst, ix_tra, ix_tst = train_test_split(\n",
    "        X, Y, np.arange(X.shape[0]), test_size=1-training_size, shuffle=True, random_state=42)\n",
    "\n",
    "    # Split the existing test dataset into validation and test sets (50/50 split)\n",
    "    X_val, X_tst, Y_val, Y_tst, ix_val, ix_tst = train_test_split(\n",
    "        X_tst, Y_tst, ix_tst, test_size=0.5, shuffle=True, random_state=42)\n",
    "\n",
    "    #create datasets and data loaders\n",
    "    train_dataset = TensorDataset(torch.tensor(X_tra, dtype=torch.float32), torch.tensor(Y_tra, dtype=torch.float32))\n",
    "    val_dataset = TensorDataset(torch.tensor(X_val, dtype=torch.float32), torch.tensor(Y_val, dtype=torch.float32))\n",
    "\n",
    "    train_loader = DataLoader(train_dataset, batch_size=batch_size, shuffle=True)\n",
    "    val_loader = DataLoader(val_dataset, batch_size=batch_size, shuffle=False)\n",
    "\n",
    "    # defining the optimizer\n",
    "    optimizer = optimizer(model.parameters(), lr=lr)\n",
    "\n",
    "    # training\n",
    "    train_losses, val_losses, best_val_loss, time = train_and_validate(model, train_loader, val_loader, criterion, optimizer, num_epochs, device, save_path)\n",
    "\n",
    "# Load the best model\n",
    "model.load_state_dict(torch.load(save_path, map_location=\"cpu\"))"
   ]
  },
  {
   "cell_type": "code",
   "execution_count": null,
   "metadata": {},
   "outputs": [],
   "source": [
    "if train:\n",
    "    plt.plot(train_losses, label='Training')\n",
    "    plt.plot(val_losses, label='Validation')\n",
    "    # plt.yscale('log')\n",
    "    plt.title('Losses')\n",
    "    plt.xlabel('Epochs')\n",
    "    plt.legend()\n",
    "    plt.show()"
   ]
  },
  {
   "cell_type": "code",
   "execution_count": null,
   "metadata": {},
   "outputs": [],
   "source": [
    "model.eval()\n",
    "\n",
    "grid_size = 64\n",
    "channels = 2\n",
    "sim_amount = 4\n",
    "\n",
    "f,axs = plt.subplots(2, 4, figsize=(12,6))\n",
    "axs = axs.reshape(-1)\n",
    "\n",
    "for i in range(0, len(axs), 2):\n",
    "  with torch.no_grad():\n",
    "      \n",
    "      sims = WaterTopo.load_simulations(str(root)+\"/data/normalized_data/tra_val\", \n",
    "                                        sim_amount=sim_amount, number_grids=64, \n",
    "                                        use_augmented_data=use_augmented_data)\n",
    "\n",
    "      X, Y = create_sequence(sims, T, H)\n",
    "      X, Y = X.squeeze(1), Y.squeeze(1)\n",
    "\n",
    "      # Randomly select a simulation\n",
    "      idx = random.randint(0, X.shape[0]-1)\n",
    "      inputs = X[idx]\n",
    "      targets = Y[idx]\n",
    "\n",
    "      # Predict\n",
    "      inputs = torch.tensor(inputs, dtype=torch.float32)\n",
    "      inputs = inputs.unsqueeze(0)\n",
    "      prediction = model(inputs)\n",
    "\n",
    "      # Plotting inputs (time series)\n",
    "      axs[i].imshow(targets.reshape([64, 64, 1]))\n",
    "      axs[i+1].imshow(prediction.reshape([64, 64, 1]))\n",
    "\n",
    "      axs[i].set_title(f\"Target: sample {idx}\")\n",
    "      axs[i+1].set_title(f\"Prediction: sample {idx}\")\n",
    "\n",
    "f.tight_layout()"
   ]
  },
  {
   "cell_type": "code",
   "execution_count": null,
   "metadata": {},
   "outputs": [],
   "source": [
    "grid_size = 64\n",
    "\n",
    "from utils.utils import recursive_pred\n",
    "from utils.utils import mse_per_timestep\n",
    "\n",
    "sim = WaterTopo.load_simulations(str(root)+\"/data/normalized_data/tra_val\", 1, grid_size, False)[0]\n",
    "\n",
    "with torch.no_grad():\n",
    "    topo = sim.topography.reshape([1, grid_size, grid_size])\n",
    "    wd = sim.wd\n",
    "    wd_0 = sim.wd[0].reshape([1, grid_size, grid_size])\n",
    "    X = np.concatenate([topo, wd_0])\n",
    "\n",
    "    outputs = recursive_pred(model, X, sim.wd.shape[0]-1, include_first_timestep=True)\n",
    "    mse = mse_per_timestep(sim.wd, outputs)\n",
    "\n",
    "    plt.figure()\n",
    "    plt.plot(mse, label='MSE')\n",
    "    plt.title('Mean squared error over time')\n",
    "    plt.xlabel('Timestep')\n",
    "    plt.legend()\n",
    "    plt.show()"
   ]
  },
  {
   "cell_type": "code",
   "execution_count": null,
   "metadata": {},
   "outputs": [],
   "source": [
    "sim_model = WaterTopo(sim.topography, outputs)\n",
    "anim1 = sim.plot_animation()\n",
    "anim2 = sim_model.plot_animation()"
   ]
  },
  {
   "cell_type": "code",
   "execution_count": null,
   "metadata": {},
   "outputs": [],
   "source": []
  }
 ],
 "metadata": {
  "kernelspec": {
   "display_name": "Python 3 (ipykernel)",
   "language": "python",
   "name": "python3"
  },
  "language_info": {
   "codemirror_mode": {
    "name": "ipython",
    "version": 3
   },
   "file_extension": ".py",
   "mimetype": "text/x-python",
   "name": "python",
   "nbconvert_exporter": "python",
   "pygments_lexer": "ipython3",
   "version": "3.11.5"
  }
 },
 "nbformat": 4,
 "nbformat_minor": 4
}

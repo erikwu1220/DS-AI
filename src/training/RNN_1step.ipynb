{
 "cells": [
  {
   "cell_type": "code",
   "execution_count": 1,
   "metadata": {},
   "outputs": [],
   "source": [
    "import matplotlib.pyplot as plt\n",
    "import numpy as np\n",
    "import torch\n",
    "import torch.nn as nn\n",
    "import os\n",
    "from torch.utils.data import DataLoader, TensorDataset\n",
    "from torch.utils.data.dataset import random_split\n",
    "from sklearn.preprocessing import MinMaxScaler\n",
    "import torch.optim as optim\n",
    "import pathlib\n",
    "import sys\n",
    "\n",
    "\n",
    "from sklearn.model_selection import train_test_split\n",
    "\n",
    "\n",
    "\n",
    "cwd = pathlib.Path().resolve()\n",
    "src = cwd.parent\n",
    "root = src.parent\n",
    "sys.path.append(str(src))\n",
    "\n",
    "from models.rnn import *\n",
    "from utils.utils import count_parameters, create_sequence\n",
    "from utils.train import train_and_validate\n",
    "from utils.watertopo import WaterTopo\n",
    "#from training.train import train_and_validate, evaluate_model"
   ]
  },
  {
   "cell_type": "code",
   "execution_count": 2,
   "metadata": {},
   "outputs": [],
   "source": [
    "#initialize GPU -  In case of windows use cuda instead of mps\n",
    "device = torch.device('mps')\n",
    "\n",
    "\n",
    "grid_size = 64"
   ]
  },
  {
   "cell_type": "code",
   "execution_count": null,
   "metadata": {},
   "outputs": [],
   "source": []
  },
  {
   "cell_type": "code",
   "execution_count": 3,
   "metadata": {},
   "outputs": [],
   "source": [
    "train = True"
   ]
  },
  {
   "cell_type": "code",
   "execution_count": 4,
   "metadata": {},
   "outputs": [],
   "source": [
    "sim_amount = 80\n",
    "use_augmented_data = False\n",
    "T = 4\n",
    "H = 1\n",
    "training_size = 0.7\n",
    "batch_size = 20\n",
    "num_epochs = 200\n",
    "num_layers = 1\n",
    "lr = 0.0005\n",
    "criterion = nn.MSELoss()\n",
    "optimizer = optim.AdamW\n",
    "model_name = \"rnn_simple_test\"\n",
    "\n",
    "# defining the save path\n",
    "save_path = \"../results/trained_models/rnn/\" + model_name"
   ]
  },
  {
   "cell_type": "code",
   "execution_count": 8,
   "metadata": {},
   "outputs": [
    {
     "ename": "TypeError",
     "evalue": "empty(): argument 'size' failed to unpack the object at pos 2 with error \"type must be tuple of ints,but got tuple\"",
     "output_type": "error",
     "traceback": [
      "\u001b[0;31m---------------------------------------------------------------------------\u001b[0m",
      "\u001b[0;31mTypeError\u001b[0m                                 Traceback (most recent call last)",
      "Cell \u001b[0;32mIn[8], line 1\u001b[0m\n\u001b[0;32m----> 1\u001b[0m model \u001b[38;5;241m=\u001b[39m nextgen_rnn(num_layers \u001b[38;5;241m=\u001b[39m num_layers, input_size \u001b[38;5;241m=\u001b[39m (T,\u001b[38;5;241m64\u001b[39m,\u001b[38;5;241m64\u001b[39m) , hidden_size\u001b[38;5;241m=\u001b[39m\u001b[38;5;241m64\u001b[39m, \n\u001b[1;32m      2\u001b[0m                  output_size \u001b[38;5;241m=\u001b[39m (H, \u001b[38;5;241m64\u001b[39m, \u001b[38;5;241m64\u001b[39m), sequence_length \u001b[38;5;241m=\u001b[39m T)\n",
      "File \u001b[0;32m~/DASAIE/FLOODS_project/floods/src/models/rnn.py:52\u001b[0m, in \u001b[0;36mnextgen_rnn.__init__\u001b[0;34m(self, num_layers, input_size, hidden_size, output_size, sequence_length)\u001b[0m\n\u001b[1;32m     50\u001b[0m \u001b[38;5;28msuper\u001b[39m(nextgen_rnn, \u001b[38;5;28mself\u001b[39m)\u001b[38;5;241m.\u001b[39m\u001b[38;5;21m__init__\u001b[39m()\n\u001b[1;32m     51\u001b[0m \u001b[38;5;66;03m# RNN layer\u001b[39;00m\n\u001b[0;32m---> 52\u001b[0m \u001b[38;5;28mself\u001b[39m\u001b[38;5;241m.\u001b[39mrnn \u001b[38;5;241m=\u001b[39m nn\u001b[38;5;241m.\u001b[39mRNN(input_size\u001b[38;5;241m=\u001b[39minput_size, hidden_size\u001b[38;5;241m=\u001b[39mhidden_size, num_layers \u001b[38;5;241m=\u001b[39m num_layers,  batch_first\u001b[38;5;241m=\u001b[39m\u001b[38;5;28;01mTrue\u001b[39;00m)\n\u001b[1;32m     54\u001b[0m \u001b[38;5;66;03m# Output layer\u001b[39;00m\n\u001b[1;32m     55\u001b[0m \u001b[38;5;28mself\u001b[39m\u001b[38;5;241m.\u001b[39mfc \u001b[38;5;241m=\u001b[39m nn\u001b[38;5;241m.\u001b[39mLinear(hidden_size, output_size)\n",
      "File \u001b[0;32m~/anaconda3/lib/python3.11/site-packages/torch/nn/modules/rnn.py:489\u001b[0m, in \u001b[0;36mRNN.__init__\u001b[0;34m(self, *args, **kwargs)\u001b[0m\n\u001b[1;32m    487\u001b[0m \u001b[38;5;28;01melse\u001b[39;00m:\n\u001b[1;32m    488\u001b[0m     \u001b[38;5;28;01mraise\u001b[39;00m \u001b[38;5;167;01mValueError\u001b[39;00m(\u001b[38;5;124mf\u001b[39m\u001b[38;5;124m\"\u001b[39m\u001b[38;5;124mUnknown nonlinearity \u001b[39m\u001b[38;5;124m'\u001b[39m\u001b[38;5;132;01m{\u001b[39;00m\u001b[38;5;28mself\u001b[39m\u001b[38;5;241m.\u001b[39mnonlinearity\u001b[38;5;132;01m}\u001b[39;00m\u001b[38;5;124m'\u001b[39m\u001b[38;5;124m. Select from \u001b[39m\u001b[38;5;124m'\u001b[39m\u001b[38;5;124mtanh\u001b[39m\u001b[38;5;124m'\u001b[39m\u001b[38;5;124m or \u001b[39m\u001b[38;5;124m'\u001b[39m\u001b[38;5;124mrelu\u001b[39m\u001b[38;5;124m'\u001b[39m\u001b[38;5;124m.\u001b[39m\u001b[38;5;124m\"\u001b[39m)\n\u001b[0;32m--> 489\u001b[0m \u001b[38;5;28msuper\u001b[39m()\u001b[38;5;241m.\u001b[39m\u001b[38;5;21m__init__\u001b[39m(mode, \u001b[38;5;241m*\u001b[39margs, \u001b[38;5;241m*\u001b[39m\u001b[38;5;241m*\u001b[39mkwargs)\n",
      "File \u001b[0;32m~/anaconda3/lib/python3.11/site-packages/torch/nn/modules/rnn.py:114\u001b[0m, in \u001b[0;36mRNNBase.__init__\u001b[0;34m(self, mode, input_size, hidden_size, num_layers, bias, batch_first, dropout, bidirectional, proj_size, device, dtype)\u001b[0m\n\u001b[1;32m    111\u001b[0m real_hidden_size \u001b[38;5;241m=\u001b[39m proj_size \u001b[38;5;28;01mif\u001b[39;00m proj_size \u001b[38;5;241m>\u001b[39m \u001b[38;5;241m0\u001b[39m \u001b[38;5;28;01melse\u001b[39;00m hidden_size\n\u001b[1;32m    112\u001b[0m layer_input_size \u001b[38;5;241m=\u001b[39m input_size \u001b[38;5;28;01mif\u001b[39;00m layer \u001b[38;5;241m==\u001b[39m \u001b[38;5;241m0\u001b[39m \u001b[38;5;28;01melse\u001b[39;00m real_hidden_size \u001b[38;5;241m*\u001b[39m num_directions\n\u001b[0;32m--> 114\u001b[0m w_ih \u001b[38;5;241m=\u001b[39m Parameter(torch\u001b[38;5;241m.\u001b[39mempty((gate_size, layer_input_size), \u001b[38;5;241m*\u001b[39m\u001b[38;5;241m*\u001b[39mfactory_kwargs))\n\u001b[1;32m    115\u001b[0m w_hh \u001b[38;5;241m=\u001b[39m Parameter(torch\u001b[38;5;241m.\u001b[39mempty((gate_size, real_hidden_size), \u001b[38;5;241m*\u001b[39m\u001b[38;5;241m*\u001b[39mfactory_kwargs))\n\u001b[1;32m    116\u001b[0m b_ih \u001b[38;5;241m=\u001b[39m Parameter(torch\u001b[38;5;241m.\u001b[39mempty(gate_size, \u001b[38;5;241m*\u001b[39m\u001b[38;5;241m*\u001b[39mfactory_kwargs))\n",
      "\u001b[0;31mTypeError\u001b[0m: empty(): argument 'size' failed to unpack the object at pos 2 with error \"type must be tuple of ints,but got tuple\""
     ]
    }
   ],
   "source": [
    "model = nextgen_rnn(num_layers = num_layers, input_size = (T,64,64) , hidden_size=64, \n",
    "                 output_size = (H, 64, 64), sequence_length = T)"
   ]
  },
  {
   "cell_type": "code",
   "execution_count": null,
   "metadata": {},
   "outputs": [],
   "source": [
    "if train:\n",
    "    sims = WaterTopo.load_simulations(str(root)+\"/data/normalized_data/tra_val\", sim_amount=sim_amount, number_grids=64, use_augmented_data=use_augmented_data)\n",
    "\n",
    "    X, Y = create_sequence(sims, T, H)\n",
    "    #X, Y = X.squeeze(1), Y.squeeze(1)\n",
    "    print(X.shape)\n",
    "    print(Y.shape)\n",
    "\n",
    "    # We keep track of indexes of train and validation.\n",
    "    X_tra, X_tst, Y_tra, Y_tst, ix_tra, ix_tst = train_test_split(\n",
    "        X, Y, np.arange(X.shape[0]), test_size=1-training_size, shuffle=True, random_state=42)\n",
    "\n",
    "    # Split the existing test dataset into validation and test sets (50/50 split)\n",
    "    X_val, X_tst, Y_val, Y_tst, ix_val, ix_tst = train_test_split(\n",
    "        X_tst, Y_tst, ix_tst, test_size=0.5, shuffle=True, random_state=42)\n",
    "\n",
    "    #create datasets and data loaders\n",
    "    train_dataset = TensorDataset(torch.tensor(X_tra, dtype=torch.float32), torch.tensor(Y_tra, dtype=torch.float32))\n",
    "    val_dataset = TensorDataset(torch.tensor(X_val, dtype=torch.float32), torch.tensor(Y_val, dtype=torch.float32))\n",
    "\n",
    "    train_loader = DataLoader(train_dataset, batch_size=batch_size, shuffle=True)\n",
    "    val_loader = DataLoader(val_dataset, batch_size=batch_size, shuffle=False)\n",
    "\n",
    "    # defining the optimizer\n",
    "    optimizer = optimizer(model.parameters(), lr=lr)\n",
    "\n",
    "    # training\n",
    "    train_losses, val_losses, best_val_loss, time = train_and_validate(model, train_loader, val_loader, criterion, optimizer, num_epochs, device, save_path)\n",
    "\n",
    "# Load the best model\n",
    "model.load_state_dict(torch.load(save_path, map_location=\"cpu\"))"
   ]
  },
  {
   "cell_type": "code",
   "execution_count": null,
   "metadata": {},
   "outputs": [],
   "source": [
    "X = np.zeros((96, 4096))\n",
    "Y = np.zeros((96, 4096))\n",
    "\n",
    "topography = sim.topography\n",
    "\n",
    "for t_i in range(len(X)):\n",
    "    wd, vx, vy = sim.return_timestep(t_i)\n",
    "    X[t_i] = wd.reshape(-1)\n",
    "\n",
    "    wd_vx_vy = sim.return_timestep(t_i+1)\n",
    "    Y[t_i] = wd.reshape(-1)\n",
    "\n",
    "training_size = 0.8\n",
    "id_training = int(training_size * len(X))\n",
    "\n",
    "X_tra = X[:id_training, :]\n",
    "Y_tra = Y[:id_training, :]\n",
    "\n",
    "X_val = X[id_training:, :]\n",
    "Y_val = Y[id_training:, :]\n",
    "# print(np.count_nonzero(X_tra[95]))\n",
    "print(X_tra.shape)\n",
    "print(Y_tra.shape)\n",
    "print(X_val.shape)\n",
    "print(Y_val.shape)"
   ]
  },
  {
   "cell_type": "code",
   "execution_count": null,
   "metadata": {},
   "outputs": [],
   "source": []
  },
  {
   "cell_type": "code",
   "execution_count": null,
   "metadata": {},
   "outputs": [],
   "source": []
  },
  {
   "cell_type": "code",
   "execution_count": null,
   "metadata": {},
   "outputs": [],
   "source": [
    "from torch.utils.data import TensorDataset, DataLoader"
   ]
  },
  {
   "cell_type": "code",
   "execution_count": null,
   "metadata": {},
   "outputs": [],
   "source": [
    "\n",
    "train_dataset = TensorDataset(torch.tensor(X_tra, dtype=torch.float32), torch.tensor(Y_tra, dtype=torch.float32))\n",
    "val_dataset = TensorDataset(torch.tensor(X_val, dtype=torch.float32), torch.tensor(Y_val, dtype=torch.float32))"
   ]
  },
  {
   "cell_type": "code",
   "execution_count": null,
   "metadata": {},
   "outputs": [],
   "source": [
    "# # Instantiate the model with hyperparameters\n",
    "# model = RNN_floods(input_size=dict_size, output_size=dict_size, hidden_dim=12, n_layers=1)\n",
    "# # We'll also set the model to the device that we defined earlier (default is CPU)\n",
    "# model.to(device)\n",
    "\n",
    "# # Define hyperparameters\n",
    "# n_epochs = 100\n",
    "# lr=0.01\n",
    "\n",
    "# # Define Loss, Optimizer\n",
    "# criterion = nn.CrossEntropyLoss()\n",
    "# optimizer = torch.optim.Adam(model.parameters(), lr=lr)"
   ]
  },
  {
   "cell_type": "code",
   "execution_count": null,
   "metadata": {},
   "outputs": [],
   "source": [
    "batch_size = 2**2      # You can modify this based on your requirements\n",
    "\n",
    "train_loader = DataLoader(train_dataset, batch_size=batch_size, shuffle=True)\n",
    "val_loader = DataLoader(val_dataset, batch_size=batch_size, shuffle=False)\n"
   ]
  },
  {
   "cell_type": "code",
   "execution_count": null,
   "metadata": {},
   "outputs": [],
   "source": [
    "num_epochs = 200\n",
    "lr = 0.0005"
   ]
  },
  {
   "cell_type": "code",
   "execution_count": null,
   "metadata": {},
   "outputs": [],
   "source": [
    "import torch.optim as optim"
   ]
  },
  {
   "cell_type": "code",
   "execution_count": null,
   "metadata": {},
   "outputs": [],
   "source": []
  },
  {
   "cell_type": "code",
   "execution_count": null,
   "metadata": {},
   "outputs": [],
   "source": [
    "babies_first_model = (128, 4096).to(device)"
   ]
  },
  {
   "cell_type": "code",
   "execution_count": null,
   "metadata": {},
   "outputs": [],
   "source": [
    "# Loss function\n",
    "criterion = nn.MSELoss()  # Or another appropriate loss function\n",
    "\n",
    "optimizer = optim.AdamW(babies_first_model.parameters(), lr=lr)\n",
    "save_path_MLP = '../trained_models/RNN/RNN_v2.pth'"
   ]
  },
  {
   "cell_type": "code",
   "execution_count": null,
   "metadata": {},
   "outputs": [],
   "source": [
    "import time"
   ]
  },
  {
   "cell_type": "code",
   "execution_count": null,
   "metadata": {},
   "outputs": [],
   "source": [
    "train_losses_MLP, val_losses_MLP, best_val_loss_MLP, time_MLP = train_and_validate(babies_first_model, train_loader, val_loader, criterion, optimizer, num_epochs, device, save_path_MLP)"
   ]
  },
  {
   "cell_type": "code",
   "execution_count": null,
   "metadata": {},
   "outputs": [],
   "source": []
  },
  {
   "cell_type": "code",
   "execution_count": null,
   "metadata": {},
   "outputs": [],
   "source": []
  },
  {
   "cell_type": "code",
   "execution_count": null,
   "metadata": {},
   "outputs": [],
   "source": []
  },
  {
   "cell_type": "code",
   "execution_count": null,
   "metadata": {},
   "outputs": [],
   "source": []
  },
  {
   "cell_type": "code",
   "execution_count": null,
   "metadata": {},
   "outputs": [],
   "source": []
  },
  {
   "cell_type": "code",
   "execution_count": null,
   "metadata": {},
   "outputs": [],
   "source": []
  },
  {
   "cell_type": "code",
   "execution_count": null,
   "metadata": {},
   "outputs": [],
   "source": []
  },
  {
   "cell_type": "code",
   "execution_count": null,
   "metadata": {},
   "outputs": [],
   "source": []
  },
  {
   "cell_type": "code",
   "execution_count": null,
   "metadata": {},
   "outputs": [],
   "source": []
  }
 ],
 "metadata": {
  "kernelspec": {
   "display_name": "Python 3 (ipykernel)",
   "language": "python",
   "name": "python3"
  },
  "language_info": {
   "codemirror_mode": {
    "name": "ipython",
    "version": 3
   },
   "file_extension": ".py",
   "mimetype": "text/x-python",
   "name": "python",
   "nbconvert_exporter": "python",
   "pygments_lexer": "ipython3",
   "version": "3.11.5"
  }
 },
 "nbformat": 4,
 "nbformat_minor": 1
}

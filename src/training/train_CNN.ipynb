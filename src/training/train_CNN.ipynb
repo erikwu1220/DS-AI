{
 "cells": [
  {
   "cell_type": "code",
   "execution_count": null,
   "metadata": {},
   "outputs": [],
   "source": [
    "import sys\n",
    "import pathlib\n",
    "import time\n",
    "\n",
    "import matplotlib.pyplot as plt\n",
    "import numpy as np\n",
    "import random\n",
    "import torch\n",
    "import torch.nn as nn\n",
    "import torch.nn.functional as F\n",
    "import torch.optim as optim\n",
    "\n",
    "from torch.utils.data import DataLoader, TensorDataset\n",
    "from sklearn.model_selection import train_test_split"
   ]
  },
  {
   "cell_type": "code",
   "execution_count": null,
   "metadata": {},
   "outputs": [],
   "source": [
    "# Local\n",
    "cwd = pathlib.Path().resolve()\n",
    "src = cwd.parent\n",
    "root = src.parent\n",
    "sys.path.append(str(src))\n",
    "\n",
    "from utils.watertopo import WaterTopo\n",
    "from utils.simulation import Simulation\n",
    "from utils.utils import count_parameters, create_sequence\n",
    "from utils.train import train_and_validate, evaluate_model, train\n",
    "from models.convlstm import ConvLSTMCell"
   ]
  },
  {
   "cell_type": "code",
   "execution_count": null,
   "metadata": {},
   "outputs": [],
   "source": [
    "#initialize GPU -  In case of windows use cuda instead of nps\n",
    "device = torch.device('cuda' if torch.cuda.is_available() else 'cpu')\n",
    "\n",
    "print(\"Is CUDA enabled?\",torch.cuda.is_available())\n",
    "print(\"Number of GPUs\",torch.cuda.device_count())"
   ]
  },
  {
   "cell_type": "code",
   "execution_count": null,
   "metadata": {},
   "outputs": [],
   "source": [
    "class BasicCNN(nn.Module):\n",
    "    def __init__(self, \n",
    "                 input_channels=...,\n",
    "                 output_channels=...,\n",
    "                 bias=...,\n",
    "                 kernel_size=(3, 3, 3, 3), \n",
    "                 pool_kernel_size=3,\n",
    "                 pool_stride=1, \n",
    "                 nonlinearity=F.relu\n",
    "                 ):\n",
    "        super(BasicCNN, self).__init__()\n",
    "\n",
    "        # Convolutional layers\n",
    "        self.conv1 = nn.Conv2d(2, 64, kernel_size=kernel_size[0], padding=1)\n",
    "        self.conv2 = nn.Conv2d(2, 64, kernel_size=kernel_size[1], padding=1)\n",
    "        self.conv3 = nn.Conv2d(2, 64, kernel_size=kernel_size[2], padding=1)\n",
    "        self.conv4 = nn.Conv2d(2, 64, kernel_size=kernel_size[3], padding=1)\n",
    "\n",
    "        # Pooling has no learnable parameters, so we can just use one\n",
    "        self.pool = nn.MeanPool2d(kernel_size=pool_kernel_size, stride=pool_stride)\n",
    "\n",
    "        # Definition of nonlinearity function\n",
    "        self.nonlinearity=nonlinearity\n",
    "\n",
    "        # Last layer\n",
    "        self.fc = nn.Linear(...)\n",
    "\n",
    "    def forward(self, x):\n",
    "        # Convolutions\n",
    "        x = self.pool(self.nonlinearity(self.conv1(x)))\n",
    "        x = self.pool(self.nonlinearity(self.conv2(x)))\n",
    "        x = self.pool(self.nonlinearity(self.conv3(x)))\n",
    "        x = self.pool(self.nonlinearity(self.conv4(x)))\n",
    "\n",
    "        # Output layer\n",
    "        x = self.fc(x)\n",
    "\n",
    "        return x"
   ]
  },
  {
   "cell_type": "code",
   "execution_count": null,
   "metadata": {},
   "outputs": [],
   "source": [
    "model = BasicCNN(input_channels=...,\n",
    "                 output_channels=...,\n",
    "                 bias=...,\n",
    "                 kernel_size=(3, 3, 3, 3), \n",
    "                 pool_kernel_size=3,\n",
    "                 pool_stride=1, \n",
    "                 nonlinearity=F.relu\n",
    "                 )\n",
    "\n",
    "print(f\"CNN --> num. trainable parameters:{count_parameters(model):8d}\")"
   ]
  },
  {
   "cell_type": "code",
   "execution_count": null,
   "metadata": {},
   "outputs": [],
   "source": [
    "model, train_losses, best_val_loss, time = train(model,\n",
    "                                                 sim_amount=100,\n",
    "                                                 training_size=0.8,\n",
    "                                                 batch_size=10,\n",
    "                                                 T=1,\n",
    "                                                 H=1,\n",
    "                                                 num_epochs=100,\n",
    "                                                 lr=0.005,\n",
    "                                                 criterion=nn.MSELoss(),\n",
    "                                                 optimizer=optim.AdamW,\n",
    "                                                 device=device,\n",
    "                                                 model_name = 'CNN_kevin'\n",
    "                                                 )"
   ]
  }
 ],
 "metadata": {
  "language_info": {
   "name": "python"
  }
 },
 "nbformat": 4,
 "nbformat_minor": 2
}

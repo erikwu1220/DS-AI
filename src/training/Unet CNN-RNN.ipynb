{
 "cells": [
  {
   "cell_type": "code",
   "execution_count": 1,
   "metadata": {},
   "outputs": [],
   "source": [
    "# Global imports\n",
    "import os\n",
    "import sys\n",
    "import pathlib\n",
    "import time\n",
    "\n",
    "import matplotlib.pyplot as plt\n",
    "import numpy as np\n",
    "import torch\n",
    "import torch.nn as nn\n",
    "\n",
    "from torch.utils.data import DataLoader, TensorDataset\n",
    "from torch.utils.data.dataset import random_split\n",
    "import torch.optim as optim\n",
    "\n",
    "from sklearn.preprocessing import MinMaxScaler"
   ]
  },
  {
   "cell_type": "code",
   "execution_count": 2,
   "metadata": {},
   "outputs": [],
   "source": [
    "cwd = pathlib.Path().resolve()\n",
    "src = cwd.parent\n",
    "root = src.parent\n",
    "sys.path.append(str(src))"
   ]
  },
  {
   "cell_type": "code",
   "execution_count": 3,
   "metadata": {},
   "outputs": [
    {
     "name": "stdout",
     "output_type": "stream",
     "text": [
      "Is CUDA enabled? False\n",
      "Number of GPUs 0\n"
     ]
    }
   ],
   "source": [
    "#initialize GPU -  In case of windows use cuda instead of nps\n",
    "device = torch.device('cuda' if torch.cuda.is_available() else 'cpu')\n",
    "\n",
    "print(\"Is CUDA enabled?\",torch.cuda.is_available())\n",
    "print(\"Number of GPUs\",torch.cuda.device_count())"
   ]
  },
  {
   "cell_type": "markdown",
   "metadata": {},
   "source": [
    "###  Simple RNN\n",
    "Try Simple RNN with CNN later"
   ]
  },
  {
   "cell_type": "code",
   "execution_count": 20,
   "metadata": {},
   "outputs": [],
   "source": [
    "from models.Networks import SimpleRNN\n",
    "from models.Networks import CNN\n",
    "\n",
    "node_features = 2 # DEM and WD\n",
    "\n",
    "model_CNN = CNN(node_features=node_features,\n",
    "                n_downsamples=4,\n",
    "                initial_hid_dim=32,\n",
    "                batch_norm=True,\n",
    "                bias=True).to(device)\n"
   ]
  },
  {
   "cell_type": "code",
   "execution_count": 9,
   "metadata": {},
   "outputs": [],
   "source": [
    "from utils.simulation import Simulation\n",
    "from train import train_and_validate, evaluate_model"
   ]
  },
  {
   "cell_type": "code",
   "execution_count": 48,
   "metadata": {},
   "outputs": [],
   "source": [
    "def loading():\n",
    "    sims = Simulation.load_simulations(str(root)+\"/data/processed_data/normalized_training_data\", sim_amount = 1, number_grids=64)\n",
    "\n",
    "    n_timesteps = 96\n",
    "    grid_size = 64\n",
    "    channels = 2   # water depth and topography\n",
    "\n",
    "    # reformat the data\n",
    "    X = np.zeros((n_timesteps*len(sims), grid_size, grid_size, channels))   # timestep * grid_x * grid_y * channels\n",
    "    Y = np.zeros(X[:,:,:,0].shape)   # timestep * grid_x * grid_y\n",
    "\n",
    "    for i in range(len(sims)):   # number of simulations loaded in for training/validation\n",
    "\n",
    "        sim = sims[i]            # get simulation\n",
    "        topography = sim.topography\n",
    "\n",
    "        for t_i in range(n_timesteps):    # number of timesteps\n",
    "\n",
    "            wd, vx, vy = sim.return_timestep(t_i)\n",
    "            X[t_i+i*n_timesteps, :, :, 0] = wd\n",
    "            X[t_i+i*n_timesteps, :, :, 1] = topography\n",
    "\n",
    "            wd, vx, vy = sim.return_timestep(t_i+1)\n",
    "            Y[t_i+i*n_timesteps, :, :] = wd\n",
    "\n",
    "    return(X,Y)"
   ]
  },
  {
   "cell_type": "code",
   "execution_count": 49,
   "metadata": {},
   "outputs": [
    {
     "data": {
      "text/plain": [
       "(96, 64, 64, 2)"
      ]
     },
     "metadata": {},
     "output_type": "display_data"
    },
    {
     "data": {
      "text/plain": [
       "(96, 64, 64)"
      ]
     },
     "metadata": {},
     "output_type": "display_data"
    }
   ],
   "source": [
    "X,Y = loading()\n",
    "display(X.shape) # input (DEM, WD) - one simulation\n",
    "display(Y.shape) # output (WD) - one simulation"
   ]
  },
  {
   "cell_type": "code",
   "execution_count": 73,
   "metadata": {},
   "outputs": [
    {
     "data": {
      "text/plain": [
       "array([[[0.    , 0.    , 0.    , ..., 0.    , 0.    , 0.    ],\n",
       "        [0.    , 0.    , 0.    , ..., 0.    , 0.    , 0.    ],\n",
       "        [0.    , 0.    , 0.    , ..., 0.    , 0.    , 0.    ],\n",
       "        ...,\n",
       "        [0.    , 0.    , 0.    , ..., 0.    , 0.    , 0.    ],\n",
       "        [0.    , 0.    , 0.    , ..., 0.    , 0.    , 0.    ],\n",
       "        [0.0025, 0.    , 0.    , ..., 0.    , 0.    , 0.    ]],\n",
       "\n",
       "       [[0.    , 0.    , 0.    , ..., 0.    , 0.    , 0.    ],\n",
       "        [0.    , 0.    , 0.    , ..., 0.    , 0.    , 0.    ],\n",
       "        [0.    , 0.    , 0.    , ..., 0.    , 0.    , 0.    ],\n",
       "        ...,\n",
       "        [0.034 , 0.0395, 0.0428, ..., 0.    , 0.    , 0.    ],\n",
       "        [0.0528, 0.0577, 0.0581, ..., 0.    , 0.    , 0.    ],\n",
       "        [0.0781, 0.0595, 0.0539, ..., 0.    , 0.    , 0.    ]],\n",
       "\n",
       "       [[0.    , 0.    , 0.    , ..., 0.    , 0.    , 0.    ],\n",
       "        [0.    , 0.    , 0.    , ..., 0.    , 0.    , 0.    ],\n",
       "        [0.    , 0.    , 0.    , ..., 0.    , 0.    , 0.    ],\n",
       "        ...,\n",
       "        [0.0341, 0.0399, 0.0452, ..., 0.    , 0.    , 0.    ],\n",
       "        [0.0529, 0.058 , 0.0601, ..., 0.    , 0.    , 0.    ],\n",
       "        [0.0781, 0.0597, 0.0552, ..., 0.    , 0.    , 0.    ]],\n",
       "\n",
       "       ...,\n",
       "\n",
       "       [[0.    , 0.    , 0.    , ..., 0.    , 0.    , 0.    ],\n",
       "        [0.    , 0.    , 0.    , ..., 0.    , 0.    , 0.    ],\n",
       "        [0.    , 0.    , 0.    , ..., 0.    , 0.    , 0.    ],\n",
       "        ...,\n",
       "        [0.1062, 0.1522, 0.2141, ..., 0.    , 0.    , 0.    ],\n",
       "        [0.113 , 0.1608, 0.2218, ..., 0.    , 0.    , 0.    ],\n",
       "        [0.1131, 0.1463, 0.2062, ..., 0.    , 0.    , 0.    ]],\n",
       "\n",
       "       [[0.    , 0.    , 0.    , ..., 0.    , 0.    , 0.    ],\n",
       "        [0.    , 0.    , 0.    , ..., 0.    , 0.    , 0.    ],\n",
       "        [0.    , 0.    , 0.    , ..., 0.    , 0.    , 0.    ],\n",
       "        ...,\n",
       "        [0.1062, 0.1523, 0.2141, ..., 0.    , 0.    , 0.    ],\n",
       "        [0.113 , 0.1609, 0.2219, ..., 0.    , 0.    , 0.    ],\n",
       "        [0.1131, 0.1463, 0.2063, ..., 0.    , 0.    , 0.    ]],\n",
       "\n",
       "       [[0.    , 0.    , 0.    , ..., 0.    , 0.    , 0.    ],\n",
       "        [0.    , 0.    , 0.    , ..., 0.    , 0.    , 0.    ],\n",
       "        [0.    , 0.    , 0.    , ..., 0.    , 0.    , 0.    ],\n",
       "        ...,\n",
       "        [0.1063, 0.1523, 0.2142, ..., 0.    , 0.    , 0.    ],\n",
       "        [0.1131, 0.1609, 0.2219, ..., 0.    , 0.    , 0.    ],\n",
       "        [0.1131, 0.1464, 0.2063, ..., 0.    , 0.    , 0.    ]]])"
      ]
     },
     "metadata": {},
     "output_type": "display_data"
    }
   ],
   "source": [
    "sims = Simulation.load_simulations(str(root)+\"/data/processed_data/normalized_training_data\", sim_amount = 2, number_grids=64)\n",
    "display(sims[1].wd)"
   ]
  },
  {
   "cell_type": "code",
   "execution_count": null,
   "metadata": {},
   "outputs": [],
   "source": [
    "#create datasets and data loaders\n",
    "train_dataset = TensorDataset(torch.tensor(X_tra, dtype=torch.float32), torch.tensor(Y_tra, dtype=torch.float32))\n",
    "val_dataset = TensorDataset(torch.tensor(X_val, dtype=torch.float32), torch.tensor(Y_val, dtype=torch.float32))\n",
    "\n",
    "train_loader = DataLoader(train_dataset, batch_size=batch_size, shuffle=True)\n",
    "val_loader = DataLoader(val_dataset, batch_size=batch_size, shuffle=False)\n",
    "\n",
    "# defining the optimizer\n",
    "optimizer = optimizer(model.parameters(), lr=lr)\n",
    "\n",
    "# defining the save path\n",
    "save_path = \"../results/trained_models/\" + model_name\n",
    "\n",
    "# training\n",
    "train_losses, val_losses, best_val_loss, time = train_and_validate(model, train_loader, val_loader, criterion, optimizer, num_epochs, device, save_path)\n",
    "\n",
    "# Load the best model\n",
    "    model.load_state_dict(torch.load(save_path))"
   ]
  },
  {
   "cell_type": "code",
   "execution_count": 19,
   "metadata": {},
   "outputs": [
    {
     "name": "stdout",
     "output_type": "stream",
     "text": [
      "X_tra.shape:  (76, 64, 64, 2)\n",
      "Y_tra.shape:  (76, 64, 64)\n",
      "X_val.shape:  (20, 64, 64, 2)\n",
      "Y_val.shape:  (20, 64, 64)\n"
     ]
    },
    {
     "ename": "TypeError",
     "evalue": "parameters() missing 1 required positional argument: 'self'",
     "output_type": "error",
     "traceback": [
      "\u001b[1;31m---------------------------------------------------------------------------\u001b[0m",
      "\u001b[1;31mTypeError\u001b[0m                                 Traceback (most recent call last)",
      "Cell \u001b[1;32mIn[19], line 1\u001b[0m\n\u001b[1;32m----> 1\u001b[0m \u001b[43mtrain_rnn\u001b[49m\u001b[43m(\u001b[49m\u001b[43mmodel\u001b[49m\u001b[43m \u001b[49m\u001b[38;5;241;43m=\u001b[39;49m\u001b[43m \u001b[49m\u001b[43mSimpleRNN\u001b[49m\u001b[43m,\u001b[49m\n\u001b[0;32m      2\u001b[0m \u001b[43m          \u001b[49m\u001b[43msim_amount\u001b[49m\u001b[38;5;241;43m=\u001b[39;49m\u001b[38;5;241;43m1\u001b[39;49m\u001b[43m,\u001b[49m\n\u001b[0;32m      3\u001b[0m \u001b[43m          \u001b[49m\u001b[43mtraining_size\u001b[49m\u001b[38;5;241;43m=\u001b[39;49m\u001b[38;5;241;43m0.8\u001b[39;49m\u001b[43m,\u001b[49m\n\u001b[0;32m      4\u001b[0m \u001b[43m          \u001b[49m\u001b[43mbatch_size\u001b[49m\u001b[38;5;241;43m=\u001b[39;49m\u001b[38;5;241;43m4\u001b[39;49m\u001b[43m,\u001b[49m\n\u001b[0;32m      5\u001b[0m \u001b[43m          \u001b[49m\u001b[43mnum_epochs\u001b[49m\u001b[43m \u001b[49m\u001b[38;5;241;43m=\u001b[39;49m\u001b[43m \u001b[49m\u001b[38;5;241;43m200\u001b[39;49m\u001b[43m,\u001b[49m\n\u001b[0;32m      6\u001b[0m \u001b[43m          \u001b[49m\u001b[43mlr\u001b[49m\u001b[43m \u001b[49m\u001b[38;5;241;43m=\u001b[39;49m\u001b[43m \u001b[49m\u001b[38;5;241;43m0.0005\u001b[39;49m\u001b[43m,\u001b[49m\n\u001b[0;32m      7\u001b[0m \u001b[43m          \u001b[49m\u001b[43mcriterion\u001b[49m\u001b[43m \u001b[49m\u001b[38;5;241;43m=\u001b[39;49m\u001b[43m \u001b[49m\u001b[43mnn\u001b[49m\u001b[38;5;241;43m.\u001b[39;49m\u001b[43mMSELoss\u001b[49m\u001b[43m(\u001b[49m\u001b[43m)\u001b[49m\u001b[43m,\u001b[49m\n\u001b[0;32m      8\u001b[0m \u001b[43m          \u001b[49m\u001b[43moptimizer\u001b[49m\u001b[43m \u001b[49m\u001b[38;5;241;43m=\u001b[39;49m\u001b[43m \u001b[49m\u001b[43moptim\u001b[49m\u001b[38;5;241;43m.\u001b[39;49m\u001b[43mAdamW\u001b[49m\u001b[43m,\u001b[49m\n\u001b[0;32m      9\u001b[0m \u001b[43m          \u001b[49m\u001b[43mmodel_name\u001b[49m\u001b[43m \u001b[49m\u001b[38;5;241;43m=\u001b[39;49m\u001b[43m \u001b[49m\u001b[38;5;124;43m'\u001b[39;49m\u001b[38;5;124;43mbabies_first_RNN\u001b[39;49m\u001b[38;5;124;43m'\u001b[39;49m\u001b[43m)\u001b[49m\n",
      "Cell \u001b[1;32mIn[14], line 75\u001b[0m, in \u001b[0;36mtrain_rnn\u001b[1;34m(model, sim_amount, training_size, batch_size, num_epochs, lr, criterion, optimizer, model_name)\u001b[0m\n\u001b[0;32m     72\u001b[0m val_loader \u001b[38;5;241m=\u001b[39m DataLoader(val_dataset, batch_size\u001b[38;5;241m=\u001b[39mbatch_size, shuffle\u001b[38;5;241m=\u001b[39m\u001b[38;5;28;01mFalse\u001b[39;00m)\n\u001b[0;32m     74\u001b[0m \u001b[38;5;66;03m# defining the optimizer\u001b[39;00m\n\u001b[1;32m---> 75\u001b[0m optimizer \u001b[38;5;241m=\u001b[39m optimizer(\u001b[43mmodel\u001b[49m\u001b[38;5;241;43m.\u001b[39;49m\u001b[43mparameters\u001b[49m\u001b[43m(\u001b[49m\u001b[43m)\u001b[49m, lr\u001b[38;5;241m=\u001b[39mlr)\n\u001b[0;32m     77\u001b[0m \u001b[38;5;66;03m# defining the save path\u001b[39;00m\n\u001b[0;32m     78\u001b[0m save_path \u001b[38;5;241m=\u001b[39m \u001b[38;5;124m\"\u001b[39m\u001b[38;5;124m../results/trained_models/\u001b[39m\u001b[38;5;124m\"\u001b[39m \u001b[38;5;241m+\u001b[39m model_name\n",
      "\u001b[1;31mTypeError\u001b[0m: parameters() missing 1 required positional argument: 'self'"
     ]
    }
   ],
   "source": [
    "train_rnn(model = SimpleRNN,\n",
    "          sim_amount=1,\n",
    "          training_size=0.8,\n",
    "          batch_size=4,\n",
    "          num_epochs = 200,\n",
    "          lr = 0.0005,\n",
    "          criterion = nn.MSELoss(),\n",
    "          optimizer = optim.AdamW,\n",
    "          model_name = 'babies_first_RNN')"
   ]
  },
  {
   "cell_type": "code",
   "execution_count": 43,
   "metadata": {},
   "outputs": [],
   "source": [
    "simulation_length = 10 # number of simulation\n",
    "grid_size = 64 # number of grid\n",
    "timestep = 96 # number of time step\n",
    "\n",
    "# Create a sample 2D array\n",
    "input_data = torch.rand((sequence_length, input_size))\n",
    "\n",
    "# Reshape into a 3D tensor (simulation_length, timestep, grid_size)\n",
    "input_data = input_data.unsqueeze(1).expand(-1, batch_size, -1)\n",
    "\n",
    "# Create an RNN layer\n",
    "rnn = nn.RNN(input_size, hidden_size=10, num_layers=1, batch_first=True)\n"
   ]
  },
  {
   "cell_type": "code",
   "execution_count": 45,
   "metadata": {},
   "outputs": [
    {
     "data": {
      "text/plain": [
       "torch.Size([10, 96, 64])"
      ]
     },
     "metadata": {},
     "output_type": "display_data"
    }
   ],
   "source": [
    "display(input_data.shape)"
   ]
  },
  {
   "cell_type": "code",
   "execution_count": null,
   "metadata": {},
   "outputs": [],
   "source": []
  }
 ],
 "metadata": {
  "kernelspec": {
   "display_name": "dsaie",
   "language": "python",
   "name": "python3"
  },
  "language_info": {
   "codemirror_mode": {
    "name": "ipython",
    "version": 3
   },
   "file_extension": ".py",
   "mimetype": "text/x-python",
   "name": "python",
   "nbconvert_exporter": "python",
   "pygments_lexer": "ipython3",
   "version": "3.9.17"
  }
 },
 "nbformat": 4,
 "nbformat_minor": 2
}

{
 "cells": [
  {
   "cell_type": "code",
   "execution_count": 9,
   "metadata": {},
   "outputs": [],
   "source": [
    "import sys\n",
    "import pathlib\n",
    "import torch\n",
    "\n",
    "import numpy as np\n",
    "\n",
    "from sklearn.metrics import mean_squared_error as calc_mse\n",
    "\n",
    "# Local\n",
    "cwd = pathlib.Path().resolve()\n",
    "src = cwd.parent.parent\n",
    "root = src.parent\n",
    "sys.path.append(str(src))\n",
    "\n",
    "from models.mlp import MLP\n",
    "from models.unet import UNet\n",
    "from models.unet_source import UNet_source\n",
    "from models.unet_mask import UNet_mask\n",
    "from models.unet_dropout import UNet_dropout\n",
    "\n",
    "from utils.watertopo import WaterTopo\n",
    "from utils.utils import recursive_pred, mse_per_timestep, get_corner\n",
    "\n",
    "%matplotlib inline"
   ]
  },
  {
   "cell_type": "markdown",
   "metadata": {},
   "source": [
    "### Test 1\n",
    "Load the simulations of test 1, create inputs and targets"
   ]
  },
  {
   "cell_type": "code",
   "execution_count": 10,
   "metadata": {},
   "outputs": [
    {
     "name": "stdout",
     "output_type": "stream",
     "text": [
      "X:  (20, 1, 2, 64, 64)\n",
      "Y0:  (20, 97, 1, 64, 64)\n",
      "Y5:  (20, 17, 1, 64, 64)\n",
      "Y10:  (20, 9, 1, 64, 64)\n"
     ]
    }
   ],
   "source": [
    "grid_size = 64\n",
    "channels = 2\n",
    "\n",
    "sims = WaterTopo.load_simulations(str(root)+\"/data/normalized_data/test1\", sim_amount=20, number_grids=grid_size, use_augmented_data=True)\n",
    "\n",
    "dur = len(sims[0].wd)\n",
    "\n",
    "X   = np.zeros((len(sims), 1, 2, grid_size, grid_size))\n",
    "Y0  = np.zeros((len(sims), dur, 1, grid_size, grid_size))\n",
    "Y5  = Y0[:,::5+1,:,:,:]\n",
    "Y10 = Y0[:,::10+1,:,:,:]\n",
    "\n",
    "for i,sim in enumerate(sims):\n",
    "    X[i,:,0,:,:] = sim.topography\n",
    "    X[i,:,1,:,:] = sim.wd[0]\n",
    "\n",
    "    Y0[i,:,0,:,:]  = sim.wd\n",
    "    Y5[i,:,0,:,:]  = sim.implement_skips(5).wd\n",
    "    Y10[i,:,0,:,:] = sim.implement_skips(10).wd\n",
    "\n",
    "print(\"X: \", X.shape)\n",
    "print(\"Y0: \", Y0.shape)\n",
    "print(\"Y5: \", Y5.shape)\n",
    "print(\"Y10: \", Y10.shape)\n"
   ]
  },
  {
   "cell_type": "markdown",
   "metadata": {},
   "source": [
    "Multistep-models"
   ]
  },
  {
   "cell_type": "code",
   "execution_count": 3,
   "metadata": {},
   "outputs": [],
   "source": [
    "# Load the model\n",
    "model = UNet(2, [32, 64, 128], 96)\n",
    "model_type = \"unet_multistep\"\n",
    "model_name = \"unet_32_64_128_orig_data80_multistep_skip0\"\n",
    "Y = Y0\n",
    "skips = 0\n",
    "\n",
    "model.load_state_dict(torch.load(str(src)+\"/results/trained_models/\" + model_type + \"/\" + model_name, \n",
    "                                 map_location=\"cpu\"))\n",
    "\n",
    "mse = np.zeros((len(sims), Y.shape[1]))\n",
    "\n",
    "for i, sim in enumerate(sims):\n",
    "    inputs = torch.tensor(X[i], dtype=torch.float32)\n",
    "    outputs = model(inputs).squeeze()\n",
    "\n",
    "    outputs = torch.cat((torch.tensor(sim.wd[0], dtype=torch.float32).unsqueeze(0), outputs), dim=0)\n",
    "    \n",
    "    mse[i,:] = mse_per_timestep(Y[i].squeeze(), outputs)\n",
    "\n",
    "mse = np.mean(mse, axis=0)\n",
    "t = np.arange(0, 97, skips+1)\n",
    "mse = np.vstack([t, mse])\n",
    "\n",
    "# np.savetxt(str(src)+\"/results/error_accumulation/\"+model_name, mse)"
   ]
  },
  {
   "cell_type": "markdown",
   "metadata": {},
   "source": [
    "Auto-regressive models"
   ]
  },
  {
   "cell_type": "code",
   "execution_count": 8,
   "metadata": {},
   "outputs": [
    {
     "name": "stdout",
     "output_type": "stream",
     "text": [
      "[[0.00000000e+00 6.00000000e+00 1.20000000e+01 1.80000000e+01\n",
      "  2.40000000e+01 3.00000000e+01 3.60000000e+01 4.20000000e+01\n",
      "  4.80000000e+01 5.40000000e+01 6.00000000e+01 6.60000000e+01\n",
      "  7.20000000e+01 7.80000000e+01 8.40000000e+01 9.00000000e+01\n",
      "  9.60000000e+01]\n",
      " [5.42474701e-24 1.55849123e-02 2.92748437e-02 4.21205409e-02\n",
      "  5.36125113e-02 6.38472416e-02 7.25901789e-02 7.97662175e-02\n",
      "  8.52252074e-02 8.92100785e-02 9.20271557e-02 9.35720254e-02\n",
      "  9.40668827e-02 9.36878844e-02 9.27434462e-02 9.14750767e-02\n",
      "  9.00224233e-02]]\n"
     ]
    }
   ],
   "source": [
    "# Load the model\n",
    "model = UNet_source(2, 1)\n",
    "model_type = \"unet\"\n",
    "model_name = \"unet_source_aug_skip5\"\n",
    "Y = Y5\n",
    "skips = 5\n",
    "\n",
    "model.load_state_dict(torch.load(str(src)+\"/results/trained_models/\" + model_type + \"/\" + model_name, \n",
    "                                 map_location=\"cpu\"))\n",
    "model.eval()\n",
    "\n",
    "mse = np.zeros((len(sims), Y.shape[1]))\n",
    "\n",
    "for i, sim in enumerate(sims):\n",
    "    inputs = torch.tensor(X[i], dtype=torch.float32).squeeze()\n",
    "\n",
    "    with torch.no_grad():\n",
    "        outputs = recursive_pred(model, inputs, Y.shape[1]-1, include_first_timestep=True)\n",
    "    \n",
    "    mse[i,:] = mse_per_timestep(Y[i].squeeze(), outputs)\n",
    "\n",
    "mse = np.mean(mse, axis=0)\n",
    "t = np.arange(0, 97, skips+1)\n",
    "mse = np.vstack([t, mse])\n",
    "\n",
    "# np.savetxt(str(src)+\"/results/error_accumulation/\"+model_name, mse)\n",
    "\n",
    "print(mse)"
   ]
  },
  {
   "cell_type": "code",
   "execution_count": 6,
   "metadata": {},
   "outputs": [
    {
     "name": "stdout",
     "output_type": "stream",
     "text": [
      "[[0.00000000e+00 6.00000000e+00 1.20000000e+01 1.80000000e+01\n",
      "  2.40000000e+01 3.00000000e+01 3.60000000e+01 4.20000000e+01\n",
      "  4.80000000e+01 5.40000000e+01 6.00000000e+01 6.60000000e+01\n",
      "  7.20000000e+01 7.80000000e+01 8.40000000e+01 9.00000000e+01\n",
      "  9.60000000e+01]\n",
      " [5.42474701e-24 1.86475553e-03 3.64428207e-03 5.79134729e-03\n",
      "  7.60440728e-03 8.50319413e-03 9.17934089e-03 9.74578406e-03\n",
      "  1.01305090e-02 1.07775093e-02 1.12262102e-02 1.20909574e-02\n",
      "  1.32154502e-02 1.42978778e-02 1.54478939e-02 1.66878334e-02\n",
      "  1.81816928e-02]]\n"
     ]
    }
   ],
   "source": [
    "# Load the model\n",
    "model = UNet_mask(2, [32, 64], 1, 5)\n",
    "model_type = \"unet_mask\"\n",
    "model_name = \"unet_32_64_orig_data80_skip5_hardmask5\"\n",
    "Y = Y5\n",
    "skips = 5\n",
    "\n",
    "model.load_state_dict(torch.load(str(src)+\"/results/trained_models/\" + model_type + \"/\" + model_name, \n",
    "                                 map_location=\"cpu\"))\n",
    "model.eval()\n",
    "\n",
    "mse = np.zeros((len(sims), Y.shape[1]))\n",
    "\n",
    "for i, sim in enumerate(sims):\n",
    "    inputs = torch.tensor(X[i], dtype=torch.float32).squeeze()\n",
    "\n",
    "    with torch.no_grad():\n",
    "        outputs = recursive_pred(model, inputs, Y.shape[1]-1, include_first_timestep=True)\n",
    "    \n",
    "    mse[i,:] = mse_per_timestep(Y[i].squeeze(), outputs)\n",
    "\n",
    "mse = np.mean(mse, axis=0)\n",
    "t = np.arange(0, 97, skips+1)\n",
    "mse = np.vstack([t, mse])\n",
    "\n",
    "# np.savetxt(str(src)+\"/results/error_accumulation/\"+model_name, mse)\n",
    "\n",
    "print(mse)"
   ]
  },
  {
   "cell_type": "markdown",
   "metadata": {},
   "source": [
    "MLPs:"
   ]
  },
  {
   "cell_type": "code",
   "execution_count": 7,
   "metadata": {},
   "outputs": [
    {
     "name": "stdout",
     "output_type": "stream",
     "text": [
      "0.021065208371303053\n"
     ]
    }
   ],
   "source": [
    "# Load the model\n",
    "model = MLP(2, 256, 1)\n",
    "model_type = \"mlp\"\n",
    "model_name = \"mlp_corners_orig_data\"\n",
    "\n",
    "model.load_state_dict(torch.load(str(src)+\"/results/trained_models/\" + model_type + \"/\" + model_name, \n",
    "                                 map_location=\"cpu\"))\n",
    "model.eval()\n",
    "\n",
    "for i, sim in enumerate(sims):\n",
    "    inputs = np.zeros((grid_size, grid_size, channels))\n",
    "    targets = np.zeros((grid_size, grid_size))\n",
    "\n",
    "    inputs[:,:,0] = get_corner(sim.wd[0])\n",
    "    inputs[:,:,1] = sim.topography\n",
    "    targets[:,:,] = sim.return_timestep(-1)\n",
    "\n",
    "    inputs = torch.tensor(inputs, dtype=torch.float32)\n",
    "\n",
    "    with torch.no_grad():\n",
    "        outputs = model(inputs)\n",
    "    \n",
    "    mse = calc_mse(targets, outputs.squeeze())\n",
    "\n",
    "# np.savetxt(str(src)+\"/results/error_accumulation/\"+model_name, np.array([0,mse]))\n",
    "print(mse)"
   ]
  },
  {
   "cell_type": "markdown",
   "metadata": {},
   "source": [
    "U-Net with dropout:"
   ]
  },
  {
   "cell_type": "code",
   "execution_count": 14,
   "metadata": {},
   "outputs": [
    {
     "name": "stdout",
     "output_type": "stream",
     "text": [
      "[[0.00000000e+00 6.00000000e+00 1.20000000e+01 1.80000000e+01\n",
      "  2.40000000e+01 3.00000000e+01 3.60000000e+01 4.20000000e+01\n",
      "  4.80000000e+01 5.40000000e+01 6.00000000e+01 6.60000000e+01\n",
      "  7.20000000e+01 7.80000000e+01 8.40000000e+01 9.00000000e+01\n",
      "  9.60000000e+01]\n",
      " [5.42474701e-24 1.83112828e-03 3.61810174e-03 5.58556430e-03\n",
      "  7.46893274e-03 8.78854760e-03 9.67685866e-03 1.02253130e-02\n",
      "  1.05225579e-02 1.08307855e-02 1.12091815e-02 1.18344502e-02\n",
      "  1.27288182e-02 1.36544263e-02 1.46314097e-02 1.56482560e-02\n",
      "  1.66658564e-02]]\n"
     ]
    }
   ],
   "source": [
    "# Load the model\n",
    "model = UNet_dropout(2, [32, 64, 128], 1, 5, False, 0.5)\n",
    "model_type = \"unet_dropout\"\n",
    "model_name = \"unet_32_64_128_orig_data80_skip5_hardmask5_drop50\"\n",
    "Y = Y5\n",
    "skips = 5\n",
    "\n",
    "model.load_state_dict(torch.load(str(src)+\"/results/trained_models/\" + model_type + \"/\" + model_name, \n",
    "                                 map_location=\"cpu\"))\n",
    "model.eval()\n",
    "\n",
    "mse = np.zeros((len(sims), Y.shape[1]))\n",
    "\n",
    "for i, sim in enumerate(sims):\n",
    "    inputs = torch.tensor(X[i], dtype=torch.float32).squeeze()\n",
    "\n",
    "    with torch.no_grad():\n",
    "        outputs = recursive_pred(model, inputs, Y.shape[1]-1, include_first_timestep=True)\n",
    "    \n",
    "    mse[i,:] = mse_per_timestep(Y[i].squeeze(), outputs)\n",
    "\n",
    "mse = np.mean(mse, axis=0)\n",
    "t = np.arange(0, 97, skips+1)\n",
    "mse = np.vstack([t, mse])\n",
    "\n",
    "np.savetxt(str(src)+\"/results/error_accumulation/best_dropout/\"+model_name, mse)\n",
    "\n",
    "print(mse)"
   ]
  },
  {
   "cell_type": "code",
   "execution_count": null,
   "metadata": {},
   "outputs": [],
   "source": []
  }
 ],
 "metadata": {
  "kernelspec": {
   "display_name": "dsaie",
   "language": "python",
   "name": "python3"
  },
  "language_info": {
   "codemirror_mode": {
    "name": "ipython",
    "version": 3
   },
   "file_extension": ".py",
   "mimetype": "text/x-python",
   "name": "python",
   "nbconvert_exporter": "python",
   "pygments_lexer": "ipython3",
   "version": "3.9.17"
  }
 },
 "nbformat": 4,
 "nbformat_minor": 2
}

{
 "cells": [
  {
   "cell_type": "code",
   "execution_count": 5,
   "metadata": {},
   "outputs": [],
   "source": [
    "import sys\n",
    "import pathlib\n",
    "import torch\n",
    "\n",
    "import numpy as np\n",
    "\n",
    "# Local\n",
    "cwd = pathlib.Path().resolve()\n",
    "src = cwd.parent\n",
    "root = src.parent\n",
    "sys.path.append(str(src))\n",
    "\n",
    "from models.unet import UNet\n",
    "from models.unet_source import UNet_source\n",
    "from models.unet_mask import UNet_mask\n",
    "\n",
    "from utils.watertopo import WaterTopo\n",
    "from utils.utils import recursive_pred, mse_per_timestep, create_sequence\n",
    "\n",
    "%matplotlib inline"
   ]
  },
  {
   "cell_type": "markdown",
   "metadata": {},
   "source": [
    "### Test 1\n",
    "Load the simulations of test 1, create inputs and targets"
   ]
  },
  {
   "cell_type": "code",
   "execution_count": 7,
   "metadata": {},
   "outputs": [
    {
     "name": "stdout",
     "output_type": "stream",
     "text": [
      "(1920, 1, 2, 64, 64) (1920, 1, 1, 64, 64)\n"
     ]
    },
    {
     "ename": "ValueError",
     "evalue": "cannot select an axis to squeeze out which has size not equal to one",
     "output_type": "error",
     "traceback": [
      "\u001b[1;31m---------------------------------------------------------------------------\u001b[0m",
      "\u001b[1;31mValueError\u001b[0m                                Traceback (most recent call last)",
      "Cell \u001b[1;32mIn[7], line 10\u001b[0m\n\u001b[0;32m      8\u001b[0m \u001b[38;5;66;03m# 5 skips\u001b[39;00m\n\u001b[0;32m      9\u001b[0m X5, Y5 \u001b[38;5;241m=\u001b[39m create_sequence(sims, \u001b[38;5;241m1\u001b[39m, \u001b[38;5;241m1\u001b[39m, \u001b[38;5;241m5\u001b[39m)\n\u001b[1;32m---> 10\u001b[0m X5, Y5 \u001b[38;5;241m=\u001b[39m X5\u001b[38;5;241m.\u001b[39msqueeze(\u001b[38;5;241m1\u001b[39m), \u001b[43mY5\u001b[49m\u001b[38;5;241;43m.\u001b[39;49m\u001b[43msqueeze\u001b[49m\u001b[43m(\u001b[49m\u001b[38;5;241;43m0\u001b[39;49m\u001b[43m)\u001b[49m\n\u001b[0;32m     12\u001b[0m \u001b[38;5;66;03m# 10 skips\u001b[39;00m\n\u001b[0;32m     13\u001b[0m X10, Y10 \u001b[38;5;241m=\u001b[39m create_sequence(sims, \u001b[38;5;241m1\u001b[39m, \u001b[38;5;241m1\u001b[39m, \u001b[38;5;241m10\u001b[39m)\n",
      "\u001b[1;31mValueError\u001b[0m: cannot select an axis to squeeze out which has size not equal to one"
     ]
    }
   ],
   "source": [
    "grid_size = 64\n",
    "sims = WaterTopo.load_simulations(str(root)+\"/data/normalized_data/test1\", sim_amount=20, number_grids=grid_size, use_augmented_data=True)\n",
    "\n",
    "dur = len(sims[0].wd)\n",
    "\n",
    "X = np.zeros((len(sims), 1, 2, grid_size, grid_size))\n",
    "Y = np.zeros((len(sims), dur, 1, grid_size, grid_size))\n",
    "\n",
    "for i,sim in enumerate(sims):\n",
    "    X[i,0,:,:] = sim.topography\n",
    "    X[i,1,:,:] = sim.wd[0]\n",
    "\n",
    "\n"
   ]
  },
  {
   "cell_type": "code",
   "execution_count": null,
   "metadata": {},
   "outputs": [],
   "source": []
  },
  {
   "cell_type": "code",
   "execution_count": null,
   "metadata": {},
   "outputs": [],
   "source": []
  }
 ],
 "metadata": {
  "kernelspec": {
   "display_name": "dsaie",
   "language": "python",
   "name": "python3"
  },
  "language_info": {
   "codemirror_mode": {
    "name": "ipython",
    "version": 3
   },
   "file_extension": ".py",
   "mimetype": "text/x-python",
   "name": "python",
   "nbconvert_exporter": "python",
   "pygments_lexer": "ipython3",
   "version": "3.9.17"
  }
 },
 "nbformat": 4,
 "nbformat_minor": 2
}

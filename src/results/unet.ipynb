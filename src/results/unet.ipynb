{
 "cells": [
  {
   "cell_type": "code",
   "execution_count": 7,
   "metadata": {},
   "outputs": [],
   "source": [
    "import sys\n",
    "import pathlib\n",
    "import torch\n",
    "\n",
    "import numpy as np\n",
    "\n",
    "# Local\n",
    "cwd = pathlib.Path().resolve()\n",
    "src = cwd.parent\n",
    "root = src.parent\n",
    "sys.path.append(str(src))\n",
    "\n",
    "from utils.watertopo import WaterTopo\n",
    "from models.unet import UNet\n",
    "from utils.animation import compare_animations\n",
    "from utils.utils import recursive_pred\n",
    "\n",
    "# Important for animation to run inline\n",
    "%matplotlib inline\n",
    "%matplotlib ipympl"
   ]
  },
  {
   "cell_type": "code",
   "execution_count": 8,
   "metadata": {},
   "outputs": [
    {
     "name": "stdout",
     "output_type": "stream",
     "text": [
      "Is CUDA enabled? False\n",
      "Number of GPUs 0\n",
      "Using device: cpu\n"
     ]
    }
   ],
   "source": [
    "#initialize GPU -  In case of windows use cuda instead of nps\n",
    "device = torch.device('cuda' if torch.cuda.is_available() else 'cpu')\n",
    "\n",
    "print(\"Is CUDA enabled?\",torch.cuda.is_available())\n",
    "print(\"Number of GPUs\",torch.cuda.device_count())\n",
    "print('Using device:', device)\n",
    "\n",
    "#Additional Info when using cuda\n",
    "if device.type == 'cuda':\n",
    "    print(torch.cuda.get_device_name(0))\n",
    "    print('Memory Usage:')\n",
    "    print('Allocated:', round(torch.cuda.memory_allocated(0)/1024**3,1), 'GB')\n",
    "    print('Cached:   ', round(torch.cuda.memory_reserved(0)/1024**3,1), 'GB')"
   ]
  },
  {
   "cell_type": "code",
   "execution_count": 9,
   "metadata": {},
   "outputs": [],
   "source": [
    "grid_size = 64"
   ]
  },
  {
   "cell_type": "code",
   "execution_count": 12,
   "metadata": {},
   "outputs": [
    {
     "ename": "AttributeError",
     "evalue": "'_IncompatibleKeys' object has no attribute 'eval'",
     "output_type": "error",
     "traceback": [
      "\u001b[1;31m---------------------------------------------------------------------------\u001b[0m",
      "\u001b[1;31mAttributeError\u001b[0m                            Traceback (most recent call last)",
      "Cell \u001b[1;32mIn[12], line 32\u001b[0m\n\u001b[0;32m     30\u001b[0m \u001b[38;5;28;01mfor\u001b[39;00m i \u001b[38;5;129;01min\u001b[39;00m \u001b[38;5;28mrange\u001b[39m(\u001b[38;5;28mlen\u001b[39m(models)):\n\u001b[0;32m     31\u001b[0m     model \u001b[38;5;241m=\u001b[39m models[i]\n\u001b[1;32m---> 32\u001b[0m     \u001b[43mmodel\u001b[49m\u001b[38;5;241;43m.\u001b[39;49m\u001b[43meval\u001b[49m()\n\u001b[0;32m     33\u001b[0m     skip \u001b[38;5;241m=\u001b[39m skips[i]\n\u001b[0;32m     35\u001b[0m     \u001b[38;5;28;01mif\u001b[39;00m skips:\n",
      "\u001b[1;31mAttributeError\u001b[0m: '_IncompatibleKeys' object has no attribute 'eval'"
     ]
    }
   ],
   "source": [
    "from utils.animation import compare_animations\n",
    "\n",
    "save_path = \"../results/trained_models/unet/\"\n",
    "models = [UNet(2, [32,64], 1).load_state_dict(\n",
    "    torch.load(save_path + \"unet_32_64_orig_data80_skip0\", \n",
    "               map_location=\"cpu\")),\n",
    "\n",
    "               UNet(2, [32,64], 1).load_state_dict(\n",
    "    torch.load(save_path + \"unet_32_64_orig_data80_skip5\", \n",
    "               map_location=\"cpu\")),\n",
    "\n",
    "               UNet(2, [32,64], 1).load_state_dict(\n",
    "    torch.load(save_path + \"unet_32_64_orig_data80_skip10\", \n",
    "               map_location=\"cpu\"))]\n",
    "\n",
    "skips = [0, 5, 10]\n",
    "labels = [\"0-skip\", \"5-skip\", \"10-skip\"]\n",
    "\n",
    "sim = WaterTopo.load_simulations(str(root)+\"/data/normalized_data/test1\", \n",
    "                                 1, grid_size, True)[0]\n",
    "\n",
    "topo = sim.topography.reshape([1, grid_size, grid_size])\n",
    "wd_0 = sim.wd[0].reshape([1, grid_size, grid_size])\n",
    "X = np.concatenate([topo, wd_0])\n",
    "\n",
    "wds = []\n",
    "wds.append(sim.wd)\n",
    "\n",
    "with torch.no_grad():\n",
    "    for i in range(len(models)):\n",
    "        model = models[i]\n",
    "        model.eval()\n",
    "        skip = skips[i]\n",
    "\n",
    "        if skips:\n",
    "            sim_skips = sim.implement_skips(skip)\n",
    "\n",
    "        wd = sim_skips.wd\n",
    "\n",
    "        outputs = recursive_pred(model, X, sim_skips.wd.shape[0]-1, include_first_timestep=True)\n",
    "        wds.append(outputs)\n",
    "\n",
    "    compare_animations(wds, labels)"
   ]
  },
  {
   "cell_type": "code",
   "execution_count": null,
   "metadata": {},
   "outputs": [],
   "source": []
  }
 ],
 "metadata": {
  "kernelspec": {
   "display_name": "dsaie",
   "language": "python",
   "name": "python3"
  },
  "language_info": {
   "codemirror_mode": {
    "name": "ipython",
    "version": 3
   },
   "file_extension": ".py",
   "mimetype": "text/x-python",
   "name": "python",
   "nbconvert_exporter": "python",
   "pygments_lexer": "ipython3",
   "version": "3.9.17"
  }
 },
 "nbformat": 4,
 "nbformat_minor": 2
}

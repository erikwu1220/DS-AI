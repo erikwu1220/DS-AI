{
 "cells": [
  {
   "cell_type": "code",
   "execution_count": 4,
   "metadata": {},
   "outputs": [],
   "source": [
    "import sys\n",
    "import pathlib\n",
    "import torch\n",
    "\n",
    "import numpy as np\n",
    "\n",
    "# Local\n",
    "cwd = pathlib.Path().resolve()\n",
    "src = cwd.parent\n",
    "root = src.parent\n",
    "sys.path.append(str(src))\n",
    "\n",
    "\n",
    "from models.unet_dropout import UNet_dropout\n",
    "\n",
    "from utils.watertopo import WaterTopo\n",
    "from utils.utils import recursive_pred, mse_per_timestep\n",
    "\n",
    "%matplotlib inline"
   ]
  },
  {
   "cell_type": "code",
   "execution_count": 5,
   "metadata": {},
   "outputs": [
    {
     "name": "stdout",
     "output_type": "stream",
     "text": [
      "Is CUDA enabled? False\n",
      "Number of GPUs 0\n",
      "Using device: cpu\n"
     ]
    }
   ],
   "source": [
    "#initialize GPU -  In case of windows use cuda instead of nps\n",
    "device = torch.device('cuda' if torch.cuda.is_available() else 'cpu')\n",
    "\n",
    "print(\"Is CUDA enabled?\",torch.cuda.is_available())\n",
    "print(\"Number of GPUs\",torch.cuda.device_count())\n",
    "print('Using device:', device)\n",
    "\n",
    "#Additional Info when using cuda\n",
    "if device.type == 'cuda':\n",
    "    print(torch.cuda.get_device_name(0))\n",
    "    print('Memory Usage:')\n",
    "    print('Allocated:', round(torch.cuda.memory_allocated(0)/1024**3,1), 'GB')\n",
    "    print('Cached:   ', round(torch.cuda.memory_reserved(0)/1024**3,1), 'GB')"
   ]
  },
  {
   "cell_type": "markdown",
   "metadata": {},
   "source": [
    "We load in a random test simulation from test 1."
   ]
  },
  {
   "cell_type": "code",
   "execution_count": 6,
   "metadata": {},
   "outputs": [
    {
     "name": "stdout",
     "output_type": "stream",
     "text": [
      "X:  (1, 2, 64, 64)\n",
      "Y5:  (17, 1, 64, 64)\n"
     ]
    }
   ],
   "source": [
    "grid_size = 64\n",
    "channels = 2\n",
    "\n",
    "sim = WaterTopo.load_simulations(str(root)+\"/data/normalized_data/test1\", sim_amount=1, number_grids=grid_size, use_augmented_data=True)[0]\n",
    "\n",
    "dur = len(sim.wd)\n",
    "\n",
    "X   = np.zeros((1, 2, grid_size, grid_size))\n",
    "Y0  = np.zeros((dur, 1, grid_size, grid_size))\n",
    "Y5  = Y0[::5+1,:,:,:]\n",
    "\n",
    "X[:,0,:,:] = sim.topography\n",
    "X[:,1,:,:] = sim.wd[0]\n",
    "\n",
    "Y0[:,0,:,:]  = sim.wd\n",
    "Y5[:,0,:,:]  = sim.implement_skips(5).wd\n",
    "\n",
    "print(\"X: \", X.shape)\n",
    "print(\"Y5: \", Y5.shape)"
   ]
  },
  {
   "cell_type": "code",
   "execution_count": 9,
   "metadata": {},
   "outputs": [],
   "source": [
    "# Convert to tensors\n",
    "X = torch.tensor(X, dtype=torch.float32).squeeze()"
   ]
  },
  {
   "cell_type": "markdown",
   "metadata": {},
   "source": [
    "Load in the model."
   ]
  },
  {
   "cell_type": "code",
   "execution_count": 8,
   "metadata": {},
   "outputs": [],
   "source": [
    "# Load the model\n",
    "model = UNet_dropout(2, [32, 64, 128], 1, 5, False, 0.5).to(device)\n",
    "model_type = \"unet_dropout\"\n",
    "model_name = \"unet_32_64_128_orig_data80_skip5_hardmask5_drop50\"\n",
    "Y = Y5\n",
    "skips = 5\n",
    "\n",
    "model.load_state_dict(torch.load(str(src)+\"/results/trained_models/\" + model_type + \"/\" + model_name, \n",
    "                                 map_location=\"cpu\"))\n",
    "\n",
    "# Make sure dropout-layers are activated\n",
    "model.train(True);"
   ]
  },
  {
   "cell_type": "code",
   "execution_count": 3,
   "metadata": {},
   "outputs": [],
   "source": [
    "montecarlo_runs = 3"
   ]
  },
  {
   "cell_type": "code",
   "execution_count": 10,
   "metadata": {},
   "outputs": [
    {
     "ename": "KeyboardInterrupt",
     "evalue": "",
     "output_type": "error",
     "traceback": [
      "\u001b[1;31m---------------------------------------------------------------------------\u001b[0m",
      "\u001b[1;31mKeyboardInterrupt\u001b[0m                         Traceback (most recent call last)",
      "Cell \u001b[1;32mIn[10], line 4\u001b[0m\n\u001b[0;32m      2\u001b[0m \u001b[38;5;28;01mfor\u001b[39;00m _ \u001b[38;5;129;01min\u001b[39;00m \u001b[38;5;28mrange\u001b[39m(montecarlo_runs):\n\u001b[0;32m      3\u001b[0m     \u001b[38;5;28;01mwith\u001b[39;00m torch\u001b[38;5;241m.\u001b[39mno_grad():\n\u001b[1;32m----> 4\u001b[0m         outputs\u001b[38;5;241m.\u001b[39mappend(\u001b[43mrecursive_pred\u001b[49m\u001b[43m(\u001b[49m\u001b[43mmodel\u001b[49m\u001b[43m,\u001b[49m\u001b[43m \u001b[49m\u001b[43mX\u001b[49m\u001b[43m,\u001b[49m\u001b[43m \u001b[49m\u001b[43mdur\u001b[49m\u001b[38;5;241;43m-\u001b[39;49m\u001b[38;5;241;43m1\u001b[39;49m\u001b[43m,\u001b[49m\u001b[43m \u001b[49m\u001b[43minclude_first_timestep\u001b[49m\u001b[38;5;241;43m=\u001b[39;49m\u001b[38;5;28;43;01mTrue\u001b[39;49;00m\u001b[43m)\u001b[49m)\n",
      "File \u001b[1;32m~\\OneDrive\\Documenten\\Universiteit\\CT 5\\Q2\\Unit 3\\DS-AI\\src\\utils\\utils.py:82\u001b[0m, in \u001b[0;36mrecursive_pred\u001b[1;34m(model, inputs, timesteps, include_first_timestep)\u001b[0m\n\u001b[0;32m     79\u001b[0m outputs[:,:,\u001b[38;5;241m0\u001b[39m,:,:] \u001b[38;5;241m=\u001b[39m torch\u001b[38;5;241m.\u001b[39mtile(inputs[\u001b[38;5;241m0\u001b[39m], dims\u001b[38;5;241m=\u001b[39m[timesteps\u001b[38;5;241m+\u001b[39m\u001b[38;5;241m1\u001b[39m,\u001b[38;5;241m1\u001b[39m,\u001b[38;5;241m1\u001b[39m])\n\u001b[0;32m     81\u001b[0m \u001b[38;5;28;01mfor\u001b[39;00m t \u001b[38;5;129;01min\u001b[39;00m \u001b[38;5;28mrange\u001b[39m(\u001b[38;5;241m1\u001b[39m, timesteps\u001b[38;5;241m+\u001b[39m\u001b[38;5;241m1\u001b[39m):\n\u001b[1;32m---> 82\u001b[0m     outputs[:,t,\u001b[38;5;241m1\u001b[39m,:,:] \u001b[38;5;241m=\u001b[39m \u001b[43mmodel\u001b[49m\u001b[43m(\u001b[49m\u001b[43moutputs\u001b[49m\u001b[43m[\u001b[49m\u001b[43m:\u001b[49m\u001b[43m,\u001b[49m\u001b[43mt\u001b[49m\u001b[38;5;241;43m-\u001b[39;49m\u001b[38;5;241;43m1\u001b[39;49m\u001b[43m,\u001b[49m\u001b[43m:\u001b[49m\u001b[43m,\u001b[49m\u001b[43m:\u001b[49m\u001b[43m,\u001b[49m\u001b[43m:\u001b[49m\u001b[43m]\u001b[49m\u001b[43m)\u001b[49m\n\u001b[0;32m     84\u001b[0m \u001b[38;5;28;01mif\u001b[39;00m \u001b[38;5;129;01mnot\u001b[39;00m include_first_timestep:\n\u001b[0;32m     85\u001b[0m     outputs \u001b[38;5;241m=\u001b[39m outputs[:,\u001b[38;5;241m1\u001b[39m:,:,:,:]\n",
      "File \u001b[1;32mc:\\Users\\pjdeb\\Anaconda3\\envs\\dsaie\\lib\\site-packages\\torch\\nn\\modules\\module.py:1501\u001b[0m, in \u001b[0;36mModule._call_impl\u001b[1;34m(self, *args, **kwargs)\u001b[0m\n\u001b[0;32m   1496\u001b[0m \u001b[38;5;66;03m# If we don't have any hooks, we want to skip the rest of the logic in\u001b[39;00m\n\u001b[0;32m   1497\u001b[0m \u001b[38;5;66;03m# this function, and just call forward.\u001b[39;00m\n\u001b[0;32m   1498\u001b[0m \u001b[38;5;28;01mif\u001b[39;00m \u001b[38;5;129;01mnot\u001b[39;00m (\u001b[38;5;28mself\u001b[39m\u001b[38;5;241m.\u001b[39m_backward_hooks \u001b[38;5;129;01mor\u001b[39;00m \u001b[38;5;28mself\u001b[39m\u001b[38;5;241m.\u001b[39m_backward_pre_hooks \u001b[38;5;129;01mor\u001b[39;00m \u001b[38;5;28mself\u001b[39m\u001b[38;5;241m.\u001b[39m_forward_hooks \u001b[38;5;129;01mor\u001b[39;00m \u001b[38;5;28mself\u001b[39m\u001b[38;5;241m.\u001b[39m_forward_pre_hooks\n\u001b[0;32m   1499\u001b[0m         \u001b[38;5;129;01mor\u001b[39;00m _global_backward_pre_hooks \u001b[38;5;129;01mor\u001b[39;00m _global_backward_hooks\n\u001b[0;32m   1500\u001b[0m         \u001b[38;5;129;01mor\u001b[39;00m _global_forward_hooks \u001b[38;5;129;01mor\u001b[39;00m _global_forward_pre_hooks):\n\u001b[1;32m-> 1501\u001b[0m     \u001b[38;5;28;01mreturn\u001b[39;00m forward_call(\u001b[38;5;241m*\u001b[39margs, \u001b[38;5;241m*\u001b[39m\u001b[38;5;241m*\u001b[39mkwargs)\n\u001b[0;32m   1502\u001b[0m \u001b[38;5;66;03m# Do not call functions when jit is used\u001b[39;00m\n\u001b[0;32m   1503\u001b[0m full_backward_hooks, non_full_backward_hooks \u001b[38;5;241m=\u001b[39m [], []\n",
      "File \u001b[1;32m~\\OneDrive\\Documenten\\Universiteit\\CT 5\\Q2\\Unit 3\\DS-AI\\src\\models\\unet_dropout.py:178\u001b[0m, in \u001b[0;36mUNet_dropout.forward\u001b[1;34m(self, x)\u001b[0m\n\u001b[0;32m    174\u001b[0m     output[i] \u001b[38;5;241m=\u001b[39m x[i] \u001b[38;5;241m*\u001b[39m distance_matrix \u001b[38;5;241m*\u001b[39m\u001b[38;5;241m*\u001b[39m (\u001b[38;5;241m-\u001b[39m\u001b[38;5;28mself\u001b[39m\u001b[38;5;241m.\u001b[39mdistance \u001b[38;5;241m*\u001b[39m \u001b[38;5;241m10\u001b[39m)\n\u001b[0;32m    176\u001b[0m \u001b[38;5;28;01melse\u001b[39;00m:\n\u001b[0;32m    177\u001b[0m     \u001b[38;5;66;03m# Generate a mask\u001b[39;00m\n\u001b[1;32m--> 178\u001b[0m     mask \u001b[38;5;241m=\u001b[39m \u001b[38;5;28;43mself\u001b[39;49m\u001b[38;5;241;43m.\u001b[39;49m\u001b[43mget_mask\u001b[49m\u001b[43m(\u001b[49m\u001b[43minputs\u001b[49m\u001b[43m[\u001b[49m\u001b[43mi\u001b[49m\u001b[43m,\u001b[49m\u001b[38;5;241;43m1\u001b[39;49m\u001b[43m,\u001b[49m\u001b[43m:\u001b[49m\u001b[43m,\u001b[49m\u001b[43m:\u001b[49m\u001b[43m]\u001b[49m\u001b[43m)\u001b[49m\n\u001b[0;32m    180\u001b[0m     \u001b[38;5;66;03m# Apply mask to the output\u001b[39;00m\n\u001b[0;32m    181\u001b[0m     output[i] \u001b[38;5;241m=\u001b[39m x[i] \u001b[38;5;241m*\u001b[39m mask\n",
      "File \u001b[1;32m~\\OneDrive\\Documenten\\Universiteit\\CT 5\\Q2\\Unit 3\\DS-AI\\src\\models\\unet_dropout.py:206\u001b[0m, in \u001b[0;36mUNet_dropout.get_mask\u001b[1;34m(self, matrix, threshold)\u001b[0m\n\u001b[0;32m    205\u001b[0m \u001b[38;5;28;01mdef\u001b[39;00m \u001b[38;5;21mget_mask\u001b[39m(\u001b[38;5;28mself\u001b[39m, matrix, threshold \u001b[38;5;241m=\u001b[39m \u001b[38;5;241m1e-4\u001b[39m):\n\u001b[1;32m--> 206\u001b[0m     distance_matrix \u001b[38;5;241m=\u001b[39m \u001b[38;5;28;43mself\u001b[39;49m\u001b[38;5;241;43m.\u001b[39;49m\u001b[43mdistance_to_nonzero\u001b[49m\u001b[43m(\u001b[49m\u001b[43mmatrix\u001b[49m\u001b[43m)\u001b[49m\n\u001b[0;32m    207\u001b[0m     \u001b[38;5;28;01mreturn\u001b[39;00m torch\u001b[38;5;241m.\u001b[39mlt(distance_matrix, \u001b[38;5;28mself\u001b[39m\u001b[38;5;241m.\u001b[39mdistance \u001b[38;5;241m+\u001b[39m threshold)\n",
      "File \u001b[1;32m~\\OneDrive\\Documenten\\Universiteit\\CT 5\\Q2\\Unit 3\\DS-AI\\src\\models\\unet_dropout.py:197\u001b[0m, in \u001b[0;36mUNet_dropout.distance_to_nonzero\u001b[1;34m(self, matrix)\u001b[0m\n\u001b[0;32m    194\u001b[0m nonzero_indices \u001b[38;5;241m=\u001b[39m torch\u001b[38;5;241m.\u001b[39mnonzero(matrix, as_tuple\u001b[38;5;241m=\u001b[39m\u001b[38;5;28;01mTrue\u001b[39;00m)\n\u001b[0;32m    196\u001b[0m \u001b[38;5;66;03m# Calculate distances using broadcasting\u001b[39;00m\n\u001b[1;32m--> 197\u001b[0m distances \u001b[38;5;241m=\u001b[39m \u001b[43mtorch\u001b[49m\u001b[38;5;241;43m.\u001b[39;49m\u001b[43mabs\u001b[49m\u001b[43m(\u001b[49m\u001b[43mindices\u001b[49m\u001b[43m[\u001b[49m\u001b[38;5;241;43m0\u001b[39;49m\u001b[43m]\u001b[49m\u001b[38;5;241;43m.\u001b[39;49m\u001b[43mto\u001b[49m\u001b[43m(\u001b[49m\u001b[43mmatrix\u001b[49m\u001b[38;5;241;43m.\u001b[39;49m\u001b[43mdevice\u001b[49m\u001b[43m)\u001b[49m\u001b[43m[\u001b[49m\u001b[43m:\u001b[49m\u001b[43m,\u001b[49m\u001b[43m \u001b[49m\u001b[43m:\u001b[49m\u001b[43m,\u001b[49m\u001b[43m \u001b[49m\u001b[38;5;28;43;01mNone\u001b[39;49;00m\u001b[43m,\u001b[49m\u001b[43m \u001b[49m\u001b[38;5;28;43;01mNone\u001b[39;49;00m\u001b[43m]\u001b[49m\u001b[43m \u001b[49m\u001b[38;5;241;43m-\u001b[39;49m\u001b[43m \u001b[49m\u001b[43mnonzero_indices\u001b[49m\u001b[43m[\u001b[49m\u001b[38;5;241;43m0\u001b[39;49m\u001b[43m]\u001b[49m\u001b[43m)\u001b[49m \u001b[38;5;241m+\u001b[39m \\\n\u001b[0;32m    198\u001b[0m             torch\u001b[38;5;241m.\u001b[39mabs(indices[\u001b[38;5;241m1\u001b[39m]\u001b[38;5;241m.\u001b[39mto(matrix\u001b[38;5;241m.\u001b[39mdevice)[:, :, \u001b[38;5;28;01mNone\u001b[39;00m, \u001b[38;5;28;01mNone\u001b[39;00m] \u001b[38;5;241m-\u001b[39m nonzero_indices[\u001b[38;5;241m1\u001b[39m])\n\u001b[0;32m    200\u001b[0m \u001b[38;5;66;03m# Find the minimum distance for each element and set the result matrix\u001b[39;00m\n\u001b[0;32m    201\u001b[0m result_matrix, _ \u001b[38;5;241m=\u001b[39m torch\u001b[38;5;241m.\u001b[39mmin(distances, dim\u001b[38;5;241m=\u001b[39m\u001b[38;5;241m-\u001b[39m\u001b[38;5;241m1\u001b[39m)\n",
      "\u001b[1;31mKeyboardInterrupt\u001b[0m: "
     ]
    }
   ],
   "source": [
    "outputs = []\n",
    "with torch.no_grad():\n",
    "    for _ in range(montecarlo_runs):\n",
    "        print(f\"Monte-Carlo run {_}\")\n",
    "        outputs.append(recursive_pred(model, X, Y.shape[0]-1, include_first_timestep=True).detach())\n",
    "\n",
    "outputs = np.array(outputs)\n",
    "print(outputs.shape)"
   ]
  },
  {
   "cell_type": "code",
   "execution_count": null,
   "metadata": {},
   "outputs": [],
   "source": [
    "np.savetxt(outputs.reshape(-1))"
   ]
  }
 ],
 "metadata": {
  "kernelspec": {
   "display_name": "dsaie",
   "language": "python",
   "name": "python3"
  },
  "language_info": {
   "codemirror_mode": {
    "name": "ipython",
    "version": 3
   },
   "file_extension": ".py",
   "mimetype": "text/x-python",
   "name": "python",
   "nbconvert_exporter": "python",
   "pygments_lexer": "ipython3",
   "version": "3.9.17"
  }
 },
 "nbformat": 4,
 "nbformat_minor": 2
}

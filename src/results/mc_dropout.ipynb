{
 "cells": [
  {
   "cell_type": "code",
   "execution_count": 4,
   "metadata": {},
   "outputs": [],
   "source": [
    "import sys\n",
    "import pathlib\n",
    "import torch\n",
    "\n",
    "import numpy as np\n",
    "\n",
    "# Local\n",
    "cwd = pathlib.Path().resolve()\n",
    "src = cwd.parent\n",
    "root = src.parent\n",
    "sys.path.append(str(src))\n",
    "\n",
    "\n",
    "from models.unet_dropout import UNet_dropout\n",
    "\n",
    "from utils.watertopo import WaterTopo\n",
    "from utils.utils import recursive_pred, mse_per_timestep\n",
    "\n",
    "%matplotlib inline"
   ]
  },
  {
   "cell_type": "code",
   "execution_count": 5,
   "metadata": {},
   "outputs": [
    {
     "name": "stdout",
     "output_type": "stream",
     "text": [
      "Is CUDA enabled? False\n",
      "Number of GPUs 0\n",
      "Using device: cpu\n"
     ]
    }
   ],
   "source": [
    "#initialize GPU -  In case of windows use cuda instead of nps\n",
    "device = torch.device('cuda' if torch.cuda.is_available() else 'cpu')\n",
    "\n",
    "print(\"Is CUDA enabled?\",torch.cuda.is_available())\n",
    "print(\"Number of GPUs\",torch.cuda.device_count())\n",
    "print('Using device:', device)\n",
    "\n",
    "#Additional Info when using cuda\n",
    "if device.type == 'cuda':\n",
    "    print(torch.cuda.get_device_name(0))\n",
    "    print('Memory Usage:')\n",
    "    print('Allocated:', round(torch.cuda.memory_allocated(0)/1024**3,1), 'GB')\n",
    "    print('Cached:   ', round(torch.cuda.memory_reserved(0)/1024**3,1), 'GB')"
   ]
  },
  {
   "cell_type": "markdown",
   "metadata": {},
   "source": [
    "We load in a random test simulation from test 1."
   ]
  },
  {
   "cell_type": "code",
   "execution_count": 6,
   "metadata": {},
   "outputs": [
    {
     "name": "stdout",
     "output_type": "stream",
     "text": [
      "X:  (1, 2, 64, 64)\n",
      "Y5:  (17, 1, 64, 64)\n"
     ]
    }
   ],
   "source": [
    "grid_size = 64\n",
    "channels = 2\n",
    "\n",
    "sim = WaterTopo.load_simulations(str(root)+\"/data/normalized_data/test1\", sim_amount=1, number_grids=grid_size, use_augmented_data=True)[0]\n",
    "\n",
    "dur = len(sim.wd)\n",
    "\n",
    "X   = np.zeros((1, 2, grid_size, grid_size))\n",
    "Y0  = np.zeros((dur, 1, grid_size, grid_size))\n",
    "Y5  = Y0[::5+1,:,:,:]\n",
    "\n",
    "X[:,0,:,:] = sim.topography\n",
    "X[:,1,:,:] = sim.wd[0]\n",
    "\n",
    "Y0[:,0,:,:]  = sim.wd\n",
    "Y5[:,0,:,:]  = sim.implement_skips(5).wd\n",
    "\n",
    "print(\"X: \", X.shape)\n",
    "print(\"Y5: \", Y5.shape)"
   ]
  },
  {
   "cell_type": "code",
   "execution_count": 9,
   "metadata": {},
   "outputs": [],
   "source": [
    "# Convert to tensors\n",
    "X = torch.tensor(X, dtype=torch.float32).squeeze()"
   ]
  },
  {
   "cell_type": "markdown",
   "metadata": {},
   "source": [
    "Load in the model."
   ]
  },
  {
   "cell_type": "code",
   "execution_count": 8,
   "metadata": {},
   "outputs": [],
   "source": [
    "# Load the model\n",
    "model = UNet_dropout(2, [32, 64, 128], 1, 5, False, 0.5).to(device)\n",
    "model_type = \"unet_dropout\"\n",
    "model_name = \"unet_32_64_128_orig_data80_skip5_hardmask5_drop50\"\n",
    "Y = Y5\n",
    "skips = 5\n",
    "\n",
    "model.load_state_dict(torch.load(str(src)+\"/results/trained_models/\" + model_type + \"/\" + model_name, \n",
    "                                 map_location=\"cpu\"))\n",
    "\n",
    "# Make sure dropout-layers are activated\n",
    "model.train(True);"
   ]
  },
  {
   "cell_type": "code",
   "execution_count": 12,
   "metadata": {},
   "outputs": [],
   "source": [
    "montecarlo_runs = 100\n",
    "run = False"
   ]
  },
  {
   "cell_type": "code",
   "execution_count": 13,
   "metadata": {},
   "outputs": [],
   "source": [
    "if run:\n",
    "    with torch.no_grad():\n",
    "        for i in range(montecarlo_runs):\n",
    "            print(f\"Monte-Carlo run {i}\")\n",
    "            outputs = recursive_pred(model, X, Y.shape[0]-1, include_first_timestep=True, device=device).detach().cpu().numpy()\n",
    "            np.savetxt(f\"dropout_runs/mc_dropout{i}\", outputs.reshape(Y.shape[0]-1, -1))\n",
    "\n",
    "    print(outputs.shape)"
   ]
  },
  {
   "cell_type": "code",
   "execution_count": null,
   "metadata": {},
   "outputs": [],
   "source": []
  }
 ],
 "metadata": {
  "kernelspec": {
   "display_name": "dsaie",
   "language": "python",
   "name": "python3"
  },
  "language_info": {
   "codemirror_mode": {
    "name": "ipython",
    "version": 3
   },
   "file_extension": ".py",
   "mimetype": "text/x-python",
   "name": "python",
   "nbconvert_exporter": "python",
   "pygments_lexer": "ipython3",
   "version": "3.9.17"
  }
 },
 "nbformat": 4,
 "nbformat_minor": 2
}

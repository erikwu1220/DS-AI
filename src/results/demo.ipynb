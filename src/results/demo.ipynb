{
 "cells": [
  {
   "cell_type": "code",
   "execution_count": 4,
   "metadata": {},
   "outputs": [],
   "source": [
    "import sys\n",
    "import pathlib\n",
    "\n",
    "import matplotlib.pyplot as plt\n",
    "import numpy as np\n",
    "import random\n",
    "import torch"
   ]
  },
  {
   "cell_type": "code",
   "execution_count": 5,
   "metadata": {},
   "outputs": [],
   "source": [
    "# Local\n",
    "cwd = pathlib.Path().resolve()\n",
    "src = cwd.parent\n",
    "root = src.parent\n",
    "sys.path.append(str(src))\n",
    "sys.path.append(str(root))\n",
    "\n",
    "from utils.watertopo import WaterTopo\n",
    "from utils.simulation import Simulation\n",
    "from utils.utils import count_parameters, mse_per_timestep\n",
    "\n",
    "# from models.() import modelClass"
   ]
  },
  {
   "cell_type": "code",
   "execution_count": 6,
   "metadata": {},
   "outputs": [
    {
     "name": "stdout",
     "output_type": "stream",
     "text": [
      "Is CUDA enabled? True\n",
      "Number of GPUs 1\n"
     ]
    }
   ],
   "source": [
    "#initialize GPU -  In case of windows use cuda instead of nps\n",
    "device = torch.device('cuda' if torch.cuda.is_available() else 'cpu')\n",
    "\n",
    "print(\"Is CUDA enabled?\",torch.cuda.is_available())\n",
    "print(\"Number of GPUs\",torch.cuda.device_count())"
   ]
  },
  {
   "cell_type": "code",
   "execution_count": null,
   "metadata": {},
   "outputs": [],
   "source": [
    "# Initialize the model\n",
    "\n",
    "# best_model = ModelClass(...).to(device)"
   ]
  },
  {
   "cell_type": "code",
   "execution_count": null,
   "metadata": {},
   "outputs": [],
   "source": [
    "# Load the parameters from training\n",
    "load_path = \"./trained_models/unet/...\"\n",
    "# best_model.load_state_dict(torch.load(load_path))\n",
    "\n",
    "\n",
    "# best_model.eval()"
   ]
  },
  {
   "cell_type": "code",
   "execution_count": 10,
   "metadata": {},
   "outputs": [
    {
     "ename": "NameError",
     "evalue": "name 'best_model' is not defined",
     "output_type": "error",
     "traceback": [
      "\u001b[1;31m---------------------------------------------------------------------------\u001b[0m",
      "\u001b[1;31mNameError\u001b[0m                                 Traceback (most recent call last)",
      "Cell \u001b[1;32mIn[10], line 29\u001b[0m\n\u001b[0;32m     27\u001b[0m \u001b[38;5;66;03m# run the model\u001b[39;00m\n\u001b[0;32m     28\u001b[0m \u001b[38;5;28;01mfor\u001b[39;00m t \u001b[38;5;129;01min\u001b[39;00m \u001b[38;5;28mrange\u001b[39m(\u001b[38;5;241m1\u001b[39m, sim_length):\n\u001b[1;32m---> 29\u001b[0m    outputs[t,:,:] \u001b[38;5;241m=\u001b[39m \u001b[43mbest_model\u001b[49m(inputs)\n\u001b[0;32m     30\u001b[0m    inputs[\u001b[38;5;241m0\u001b[39m,\u001b[38;5;241m1\u001b[39m,:,:] \u001b[38;5;241m=\u001b[39m outputs[t,:,:]\n\u001b[0;32m     32\u001b[0m mse \u001b[38;5;241m=\u001b[39m mse_per_timestep(targets, outputs)\n",
      "\u001b[1;31mNameError\u001b[0m: name 'best_model' is not defined"
     ]
    }
   ],
   "source": [
    "# Let's try the model recursively!\n",
    "grid_size = 64\n",
    "channels = 2\n",
    "sim_length = 97\n",
    "\n",
    "# Load in a random simulation\n",
    "sim = WaterTopo.load_simulations(str(root)+\"/data/normalized_data/test1/\", 1, grid_size, use_augmented_data=True)[0]\n",
    "\n",
    "# Select the time step where you want to start\n",
    "id = 0\n",
    "\n",
    "# Get de inputs and targets\n",
    "inputs = np.zeros((1, channels, grid_size, grid_size))\n",
    "inputs[0, 0, :, :] = sim.topography\n",
    "inputs[0, 1, :, :] = sim.return_timestep(id)\n",
    "inputs = torch.tensor(inputs, dtype=torch.float32).to(device)\n",
    "inputs.cpu()\n",
    "\n",
    "targets = sim.wd\n",
    "targets = torch.tensor(targets, dtype=torch.float32).to(device)\n",
    "targets[0,:,:] = inputs[0,1,:,:]\n",
    "\n",
    "# initialize the outputs\n",
    "outputs = torch.zeros(targets.shape).to(device)\n",
    "outputs[0,:,:] = inputs[0,1,:,:]\n",
    "\n",
    "# run the model\n",
    "for t in range(1, sim_length):\n",
    "   outputs[t,:,:] = best_model(inputs)\n",
    "   inputs[0,1,:,:] = outputs[t,:,:]\n",
    "\n",
    "mse = mse_per_timestep(targets, outputs)"
   ]
  },
  {
   "cell_type": "code",
   "execution_count": 11,
   "metadata": {},
   "outputs": [
    {
     "ename": "",
     "evalue": "",
     "output_type": "error",
     "traceback": [
      "\u001b[1;31mThe Kernel crashed while executing code in the the current cell or a previous cell. Please review the code in the cell(s) to identify a possible cause of the failure. Click <a href='https://aka.ms/vscodeJupyterKernelCrash'>here</a> for more info. View Jupyter <a href='command:jupyter.viewOutput'>log</a> for further details."
     ]
    }
   ],
   "source": [
    "# Let's plot the MSE\n",
    "fig, ax = plt.subplots()\n",
    "ax.plot(np.arange(0, len(mse)), mse, label=\"MSE\")\n",
    "ax.set_xlabel(\"time steps\")\n",
    "ax.set_ylabel(\"MSE\")\n",
    "ax.set_title(\"... - MSE per timestep\")"
   ]
  },
  {
   "cell_type": "code",
   "execution_count": null,
   "metadata": {},
   "outputs": [],
   "source": [
    "# Anim\n",
    "ani1 = WaterTopo(topo, outputs.cpu().detach().numpy()).plot_animation()\n",
    "ani2 = WaterTopo(topo, targets.cpu().detach().numpy()).plot_animation()"
   ]
  }
 ],
 "metadata": {
  "kernelspec": {
   "display_name": "dsaie",
   "language": "python",
   "name": "python3"
  },
  "language_info": {
   "codemirror_mode": {
    "name": "ipython",
    "version": 3
   },
   "file_extension": ".py",
   "mimetype": "text/x-python",
   "name": "python",
   "nbconvert_exporter": "python",
   "pygments_lexer": "ipython3",
   "version": "3.9.17"
  }
 },
 "nbformat": 4,
 "nbformat_minor": 2
}

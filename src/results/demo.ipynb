{
 "cells": [
  {
   "cell_type": "code",
   "execution_count": 1,
   "metadata": {},
   "outputs": [],
   "source": [
    "import sys\n",
    "import pathlib\n",
    "\n",
    "import matplotlib.pyplot as plt\n",
    "import numpy as np\n",
    "import random\n",
    "import torch\n",
    "\n",
    "# %matplotlib ipympl\n",
    "# %matplotlib inline\n",
    "%matplotlib widget"
   ]
  },
  {
   "cell_type": "code",
   "execution_count": 2,
   "metadata": {},
   "outputs": [],
   "source": [
    "# Local\n",
    "cwd = pathlib.Path().resolve()\n",
    "src = cwd.parent\n",
    "root = src.parent\n",
    "sys.path.append(str(src))\n",
    "sys.path.append(str(root))\n",
    "\n",
    "from utils.watertopo import WaterTopo\n",
    "from utils.simulation import Simulation\n",
    "from utils.utils import count_parameters, mse_per_timestep, recursive_pred\n",
    "from utils.plot import compare_simulations_slider\n",
    "\n",
    "from models.unet_mask import UNet_mask"
   ]
  },
  {
   "cell_type": "code",
   "execution_count": 3,
   "metadata": {},
   "outputs": [
    {
     "name": "stdout",
     "output_type": "stream",
     "text": [
      "Is CUDA enabled? True\n",
      "Number of GPUs 1\n"
     ]
    }
   ],
   "source": [
    "#initialize GPU -  In case of windows use cuda instead of nps\n",
    "device = torch.device('cuda' if torch.cuda.is_available() else 'cpu')\n",
    "\n",
    "print(\"Is CUDA enabled?\",torch.cuda.is_available())\n",
    "print(\"Number of GPUs\",torch.cuda.device_count())"
   ]
  },
  {
   "cell_type": "code",
   "execution_count": 4,
   "metadata": {},
   "outputs": [],
   "source": [
    "# Initialize the model\n",
    "\n",
    "best_model = UNet_mask(2, [32, 64], 1, 10)\n"
   ]
  },
  {
   "cell_type": "code",
   "execution_count": 5,
   "metadata": {},
   "outputs": [
    {
     "data": {
      "text/plain": [
       "UNet_mask(\n",
       "  (encoder): Encoder(\n",
       "    (in_layer): DoubleConv(\n",
       "      (double_conv): Sequential(\n",
       "        (0): Conv2d(2, 32, kernel_size=(3, 3), stride=(1, 1), padding=(1, 1), bias=False)\n",
       "        (1): BatchNorm2d(32, eps=1e-05, momentum=0.1, affine=True, track_running_stats=True)\n",
       "        (2): ReLU(inplace=True)\n",
       "        (3): Conv2d(32, 32, kernel_size=(3, 3), stride=(1, 1), padding=(1, 1), bias=False)\n",
       "        (4): BatchNorm2d(32, eps=1e-05, momentum=0.1, affine=True, track_running_stats=True)\n",
       "        (5): ReLU(inplace=True)\n",
       "      )\n",
       "    )\n",
       "    (enc_blocks): ModuleList(\n",
       "      (0): Down(\n",
       "        (maxpool_conv): Sequential(\n",
       "          (0): MaxPool2d(kernel_size=2, stride=2, padding=0, dilation=1, ceil_mode=False)\n",
       "          (1): DoubleConv(\n",
       "            (double_conv): Sequential(\n",
       "              (0): Conv2d(32, 64, kernel_size=(3, 3), stride=(1, 1), padding=(1, 1), bias=False)\n",
       "              (1): BatchNorm2d(64, eps=1e-05, momentum=0.1, affine=True, track_running_stats=True)\n",
       "              (2): ReLU(inplace=True)\n",
       "              (3): Conv2d(64, 64, kernel_size=(3, 3), stride=(1, 1), padding=(1, 1), bias=False)\n",
       "              (4): BatchNorm2d(64, eps=1e-05, momentum=0.1, affine=True, track_running_stats=True)\n",
       "              (5): ReLU(inplace=True)\n",
       "            )\n",
       "          )\n",
       "        )\n",
       "      )\n",
       "    )\n",
       "  )\n",
       "  (decoder): Decoder(\n",
       "    (dec_blocks): ModuleList(\n",
       "      (0): Up(\n",
       "        (up): ConvTranspose2d(64, 32, kernel_size=(2, 2), stride=(2, 2))\n",
       "        (conv): DoubleConv(\n",
       "          (double_conv): Sequential(\n",
       "            (0): Conv2d(64, 32, kernel_size=(3, 3), stride=(1, 1), padding=(1, 1), bias=False)\n",
       "            (1): BatchNorm2d(32, eps=1e-05, momentum=0.1, affine=True, track_running_stats=True)\n",
       "            (2): ReLU(inplace=True)\n",
       "            (3): Conv2d(32, 32, kernel_size=(3, 3), stride=(1, 1), padding=(1, 1), bias=False)\n",
       "            (4): BatchNorm2d(32, eps=1e-05, momentum=0.1, affine=True, track_running_stats=True)\n",
       "            (5): ReLU(inplace=True)\n",
       "          )\n",
       "        )\n",
       "      )\n",
       "    )\n",
       "    (out_layer): OutConv(\n",
       "      (conv): Conv2d(32, 1, kernel_size=(1, 1), stride=(1, 1))\n",
       "    )\n",
       "  )\n",
       ")"
      ]
     },
     "execution_count": 5,
     "metadata": {},
     "output_type": "execute_result"
    }
   ],
   "source": [
    "# Load the parameters from training\n",
    "load_path = \"../results/trained_models/unet_mask/\"\n",
    "\n",
    "best_model.load_state_dict(torch.load(load_path + \"unet_32_64_orig_data80_skip5_hardmask5\", map_location=\"cpu\"))\n",
    "best_model.eval()"
   ]
  },
  {
   "cell_type": "code",
   "execution_count": 6,
   "metadata": {},
   "outputs": [
    {
     "ename": "",
     "evalue": "",
     "output_type": "error",
     "traceback": [
      "\u001b[1;31mThe Kernel crashed while executing code in the the current cell or a previous cell. Please review the code in the cell(s) to identify a possible cause of the failure. Click <a href='https://aka.ms/vscodeJupyterKernelCrash'>here</a> for more info. View Jupyter <a href='command:jupyter.viewOutput'>log</a> for further details."
     ]
    }
   ],
   "source": [
    "grid_size = 64\n",
    "skip = 5\n",
    "\n",
    "label = [\"target\", \"5-skip hard mask 5 pixels\"]\n",
    "\n",
    "sim = WaterTopo.load_simulations(str(root)+\"/data/normalized_data/test1\", \n",
    "                                 1, grid_size, \n",
    "                                 use_augmented_data=True)[0]\n",
    "\n",
    "topo = sim.topography.reshape([1, grid_size, grid_size])\n",
    "wd_0 = sim.wd[0].reshape([1, grid_size, grid_size])\n",
    "X = np.concatenate([topo, wd_0])\n",
    "\n",
    "wds = []\n",
    "wds.append(sim.wd)\n",
    "\n",
    "with torch.no_grad():\n",
    "    \n",
    "    best_model.train(False)\n",
    "\n",
    "    if skip:\n",
    "        sim_skips = sim.implement_skips(skip)\n",
    "\n",
    "    outputs = recursive_pred(best_model, X, sim_skips.wd.shape[0]-1, include_first_timestep=True)\n",
    "    wds.append(outputs.detach().numpy())\n",
    "            \n",
    "    slider5 = compare_simulations_slider(wds, label)"
   ]
  },
  {
   "cell_type": "code",
   "execution_count": null,
   "metadata": {},
   "outputs": [],
   "source": [
    "# # Let's try the model recursively!\n",
    "# grid_size = 64\n",
    "# channels = 2\n",
    "# sim_length = 97\n",
    "\n",
    "# # Load in a random simulation\n",
    "# sim = WaterTopo.load_simulations(str(root)+\"/data/normalized_data/test1/\", 1, grid_size, use_augmented_data=True)[0]\n",
    "\n",
    "# # Select the time step where you want to start\n",
    "# id = 0\n",
    "\n",
    "# # Get de inputs and targets\n",
    "# inputs = np.zeros((1, channels, grid_size, grid_size))\n",
    "# inputs[0, 0, :, :] = sim.topography\n",
    "# inputs[0, 1, :, :] = sim.return_timestep(id)\n",
    "# inputs = torch.tensor(inputs, dtype=torch.float32).to(device)\n",
    "# inputs.cpu()\n",
    "\n",
    "# targets = sim.wd\n",
    "# targets = torch.tensor(targets, dtype=torch.float32).to(device)\n",
    "# targets[0,:,:] = inputs[0,1,:,:]\n",
    "\n",
    "# # initialize the outputs\n",
    "# outputs = torch.zeros(targets.shape).to(device)\n",
    "# outputs[0,:,:] = inputs[0,1,:,:]\n",
    "\n",
    "# # run the model\n",
    "# for t in range(1, sim_length):\n",
    "#    outputs[t,:,:] = best_model(inputs)\n",
    "#    inputs[0,1,:,:] = outputs[t,:,:]\n",
    "\n",
    "# mse = mse_per_timestep(targets, outputs)"
   ]
  },
  {
   "cell_type": "code",
   "execution_count": null,
   "metadata": {},
   "outputs": [],
   "source": [
    "# # Let's plot the MSE\n",
    "# fig, ax = plt.subplots()\n",
    "# ax.plot(np.arange(0, len(mse)), mse, label=\"MSE\")\n",
    "# ax.set_xlabel(\"time steps\")\n",
    "# ax.set_ylabel(\"MSE\")\n",
    "# ax.set_title(\"... - MSE per timestep\")"
   ]
  },
  {
   "cell_type": "code",
   "execution_count": null,
   "metadata": {},
   "outputs": [],
   "source": [
    "# # Anim\n",
    "# ani1 = WaterTopo(topo, outputs.cpu().detach().numpy()).plot_animation()\n",
    "# ani2 = WaterTopo(topo, targets.cpu().detach().numpy()).plot_animation()"
   ]
  }
 ],
 "metadata": {
  "kernelspec": {
   "display_name": "dsaie",
   "language": "python",
   "name": "python3"
  },
  "language_info": {
   "codemirror_mode": {
    "name": "ipython",
    "version": 3
   },
   "file_extension": ".py",
   "mimetype": "text/x-python",
   "name": "python",
   "nbconvert_exporter": "python",
   "pygments_lexer": "ipython3",
   "version": "3.9.17"
  }
 },
 "nbformat": 4,
 "nbformat_minor": 2
}

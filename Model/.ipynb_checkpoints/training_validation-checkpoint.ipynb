{
 "cells": [
  {
   "cell_type": "code",
   "execution_count": 18,
   "id": "3b73c3b6-2fec-4e00-8c61-cbf25ec4e38e",
   "metadata": {},
   "outputs": [],
   "source": [
    "# !pip install osa\n",
    "\n",
    "import numpy as np\n",
    "import pandas as pd\n",
    "import matplotlib.pyplot as plt\n",
    "import random\n",
    "import time\n",
    "import osa\n",
    "from urllib.request import urlretrieve\n",
    "from pathlib import Path\n",
    "import os\n",
    "\n",
    "from sklearn.preprocessing import StandardScaler,MinMaxScaler\n",
    "from sklearn.model_selection import train_test_split\n",
    "\n",
    "import torch\n",
    "import torch.nn as nn\n",
    "import torch.optim as optim\n",
    "import torch.nn.functional as F\n",
    "from torch.utils.data import TensorDataset, DataLoader"
   ]
  },
  {
   "cell_type": "code",
   "execution_count": 6,
   "id": "f296afc7",
   "metadata": {},
   "outputs": [
    {
     "name": "stdout",
     "output_type": "stream",
     "text": [
      "Using device: cpu\n"
     ]
    }
   ],
   "source": [
    "# Check if CUDA is available, otherwise use CPU\n",
    "device = torch.device('cuda' if torch.cuda.is_available() else 'cpu')\n",
    "print(f'Using device: {device}')"
   ]
  },
  {
   "cell_type": "code",
   "execution_count": 21,
   "id": "84b6adab",
   "metadata": {},
   "outputs": [
    {
     "name": "stdout",
     "output_type": "stream",
     "text": [
      "C:\\Users\\khdeb\\Projects\\DS-AI\\data\n"
     ]
    }
   ],
   "source": [
    "dir = Path().resolve()\n",
    "parent_dir = dir.parent\n",
    "data_path = os.path.join(str(parent_dir) + \"\\data\")\n",
    "\n",
    "print(data_path)"
   ]
  },
  {
   "cell_type": "markdown",
   "id": "04b8bd3b",
   "metadata": {},
   "source": [
    "Load the training, validation and test data (which is already normalized)"
   ]
  },
  {
   "cell_type": "code",
   "execution_count": null,
   "id": "6a29fafd",
   "metadata": {},
   "outputs": [],
   "source": [
    "def load_augmented_data(data_path, use, dtype):\n",
    "    path = data_path + \"/augmented_data/\" + use + \"/\" dtype + '.txt'\n",
    "    return np.loadtxt(path)\n",
    "\n",
    "\n",
    "wd_tra = load_augmented_data(data_path, 'training_data', 'WD')\n",
    "vx_tra = load_augmented_data(data_path, 'training_data', 'VX')\n",
    "vy_tra = load_augmented_data(data_path, 'training_data', 'VY')\n",
    "\n",
    "wd_val = load_augmented_data(data_path, 'validation_data', 'WD')\n",
    "vx_val = load_augmented_data(data_path, 'validation_data', 'VX')\n",
    "vy_val = load_augmented_data(data_path, 'validation_data', 'VY')\n",
    "\n",
    "wd_tst = load_augmented_data(data_path, 'test_data', 'WD')\n",
    "vx_tst = load_augmented_data(data_path, 'test_data', 'VX')\n",
    "vy_tst = load_augmented_data(data_path, 'test_data', 'VY')"
   ]
  },
  {
   "cell_type": "code",
   "execution_count": 11,
   "id": "8bec3dbf",
   "metadata": {},
   "outputs": [],
   "source": [
    "from Mats_kut_model.py import model_class"
   ]
  },
  {
   "cell_type": "code",
   "execution_count": null,
   "id": "4b233025",
   "metadata": {},
   "outputs": [],
   "source": []
  }
 ],
 "metadata": {
  "kernelspec": {
   "display_name": "Python 3",
   "language": "python",
   "name": "python3"
  },
  "language_info": {
   "codemirror_mode": {
    "name": "ipython",
    "version": 3
   },
   "file_extension": ".py",
   "mimetype": "text/x-python",
   "name": "python",
   "nbconvert_exporter": "python",
   "pygments_lexer": "ipython3",
   "version": "3.8.8"
  }
 },
 "nbformat": 4,
 "nbformat_minor": 5
}

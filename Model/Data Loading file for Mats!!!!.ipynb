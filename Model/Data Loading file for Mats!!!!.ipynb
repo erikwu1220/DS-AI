{
 "cells": [
  {
   "cell_type": "code",
   "execution_count": 1,
   "id": "feb742ac",
   "metadata": {},
   "outputs": [],
   "source": [
    "import numpy as np\n",
    "import os.path\n",
    "import glob\n",
    "import os\n",
    "import pathlib"
   ]
  },
  {
   "cell_type": "code",
   "execution_count": 2,
   "id": "d7b14b1c",
   "metadata": {},
   "outputs": [
    {
     "name": "stdout",
     "output_type": "stream",
     "text": [
      "C:\\Users\\sagi8\\Documents\\GitHub\\DS-AI\\data/processed_data/normalized_training_data\n",
      "C:\\Users\\sagi8\\Documents\\GitHub\\DS-AI\\data/processed_data/normalized_validation_data\n",
      "C:\\Users\\sagi8\\Documents\\GitHub\\DS-AI\\data/processed_data/normalized_test_data\n"
     ]
    }
   ],
   "source": [
    "path = pathlib.Path().resolve()\n",
    "proj_dir = str(path.parent)\n",
    "\n",
    "path_tra = proj_dir + \"\\data/processed_data/normalized_training_data\"\n",
    "path_val = proj_dir + \"\\data/processed_data/normalized_validation_data\"\n",
    "path_tst = proj_dir + \"\\data/processed_data/normalized_test_data\"\n",
    "\n",
    "print(path_tra)\n",
    "print(path_val)\n",
    "print(path_tst)"
   ]
  },
  {
   "cell_type": "code",
   "execution_count": 3,
   "id": "b3f7005b",
   "metadata": {},
   "outputs": [],
   "source": [
    "# Water Depth files              \n",
    "wd_train = glob.glob(path_tra + '/WD/*')\n",
    "wd_vald = glob.glob(path_val + '/WD/*')\n",
    "wd_t1 = glob.glob(path_tst + '/test1/WD/*')\n",
    "wd_t2 = glob.glob(path_tst + '/test2/WD/*')\n",
    "wd_t3 = glob.glob(path_tst + '/test3/WD/*')\n",
    "\n",
    "\n",
    "wd_tra = []\n",
    "wd_val = []\n",
    "wd_tst1 = []\n",
    "wd_tst2 = []\n",
    "wd_tst3 = []\n",
    "\n",
    "\n",
    "for i in range(len(wd_train)):\n",
    "    wd_tra.append(np.loadtxt(wd_train[i]))\n",
    "    \n",
    "for i in range(len(wd_vald)):\n",
    "    wd_val.append(np.loadtxt(wd_vald[i]))\n",
    "    \n",
    "for i in range(len(wd_t1)):\n",
    "    wd_tst1.append(np.loadtxt(wd_t1[i]))\n",
    "    wd_tst2.append(np.loadtxt(wd_t2[i]))\n",
    "    wd_tst3.append(np.loadtxt(wd_t3[i]))"
   ]
  },
  {
   "cell_type": "code",
   "execution_count": 4,
   "id": "4cc7f76f",
   "metadata": {},
   "outputs": [
    {
     "name": "stdout",
     "output_type": "stream",
     "text": [
      "(3, 4096, 97)\n",
      "<class 'list'>\n"
     ]
    }
   ],
   "source": [
    "print(np.shape(wd_val))\n",
    "print(type(wd_val))"
   ]
  },
  {
   "cell_type": "code",
   "execution_count": 5,
   "id": "f698e9e6",
   "metadata": {},
   "outputs": [],
   "source": [
    "# Convert the list to array!\n",
    "wd_tra = np.array(wd_tra)\n",
    "wd_val = np.array(wd_val)\n",
    "wd_tst1 = np.array(wd_tst1)\n",
    "wd_tst2 = np.array(wd_tst2)\n",
    "wd_tst3 = np.array(wd_tst3)"
   ]
  },
  {
   "cell_type": "code",
   "execution_count": 6,
   "id": "cb2cc25f",
   "metadata": {},
   "outputs": [
    {
     "name": "stdout",
     "output_type": "stream",
     "text": [
      "(3, 4096, 97)\n",
      "<class 'numpy.ndarray'>\n"
     ]
    }
   ],
   "source": [
    "print(np.shape(wd_val))\n",
    "print(type(wd_val))"
   ]
  },
  {
   "cell_type": "code",
   "execution_count": null,
   "id": "46503bc4",
   "metadata": {},
   "outputs": [],
   "source": []
  }
 ],
 "metadata": {
  "kernelspec": {
   "display_name": "Python 3",
   "language": "python",
   "name": "python3"
  },
  "language_info": {
   "codemirror_mode": {
    "name": "ipython",
    "version": 3
   },
   "file_extension": ".py",
   "mimetype": "text/x-python",
   "name": "python",
   "nbconvert_exporter": "python",
   "pygments_lexer": "ipython3",
   "version": "3.8.8"
  }
 },
 "nbformat": 4,
 "nbformat_minor": 5
}

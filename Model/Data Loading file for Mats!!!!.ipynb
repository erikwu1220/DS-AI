{
 "cells": [
  {
   "cell_type": "code",
   "execution_count": 1,
   "id": "feb742ac",
   "metadata": {},
   "outputs": [],
   "source": [
    "import numpy as np\n",
    "import os.path\n",
    "import glob\n",
    "import os\n",
    "import pathlib"
   ]
  },
  {
   "cell_type": "code",
   "execution_count": 2,
   "id": "d7b14b1c",
   "metadata": {},
   "outputs": [
    {
     "name": "stdout",
     "output_type": "stream",
     "text": [
      "C:\\Users\\sagi8\\Documents\\GitHub\\DS-AI\\data/processed_data/normalized_training_data\n",
      "C:\\Users\\sagi8\\Documents\\GitHub\\DS-AI\\data/processed_data/normalized_validation_data\n",
      "C:\\Users\\sagi8\\Documents\\GitHub\\DS-AI\\data/processed_data/normalized_test_data\n"
     ]
    }
   ],
   "source": [
    "path = pathlib.Path().resolve()\n",
    "proj_dir = str(path.parent)\n",
    "\n",
    "path_tra = proj_dir + \"\\data/processed_data/normalized_training_data\"\n",
    "path_val = proj_dir + \"\\data/processed_data/normalized_validation_data\"\n",
    "path_tst = proj_dir + \"\\data/processed_data/normalized_test_data\"\n",
    "\n",
    "print(path_tra)\n",
    "print(path_val)\n",
    "print(path_tst)"
   ]
  },
  {
   "cell_type": "code",
   "execution_count": 3,
   "id": "b3f7005b",
   "metadata": {},
   "outputs": [],
   "source": [
    "# Water Depth files              \n",
    "wd_train = glob.glob(path_tra + '/WD/*')\n",
    "wd_vald = glob.glob(path_val + '/WD/*')\n",
    "wd_t1 = glob.glob(path_tst + '/test1/WD/*')\n",
    "wd_t2 = glob.glob(path_tst + '/test2/WD/*')\n",
    "wd_t3 = glob.glob(path_tst + '/test3/WD/*')\n",
    "\n",
    "\n",
    "wd_tra = []\n",
    "wd_val = []\n",
    "wd_tst1 = []\n",
    "wd_tst2 = []\n",
    "wd_tst3 = []\n",
    "\n",
    "\n",
    "for i in range(len(wd_train)):\n",
    "    wd_tra.append(np.loadtxt(wd_train[i]))\n",
    "    \n",
    "for i in range(len(wd_vald)):\n",
    "    wd_val.append(np.loadtxt(wd_vald[i]))\n",
    "    \n",
    "for i in range(len(wd_t1)):\n",
    "    wd_tst1.append(np.loadtxt(wd_t1[i]))\n",
    "    wd_tst2.append(np.loadtxt(wd_t2[i]))\n",
    "    wd_tst3.append(np.loadtxt(wd_t3[i]))"
   ]
  },
  {
   "cell_type": "code",
   "execution_count": 4,
   "id": "4cc7f76f",
   "metadata": {},
   "outputs": [
    {
     "name": "stdout",
     "output_type": "stream",
     "text": [
      "(3, 4096, 97)\n",
      "<class 'list'>\n"
     ]
    }
   ],
   "source": [
    "print(np.shape(wd_val))\n",
    "print(type(wd_val))"
   ]
  },
  {
   "cell_type": "code",
   "execution_count": 5,
   "id": "f698e9e6",
   "metadata": {},
   "outputs": [],
   "source": [
    "# Convert the list to array!\n",
    "wd_tra = np.array(wd_tra)\n",
    "wd_val = np.array(wd_val)\n",
    "wd_tst1 = np.array(wd_tst1)\n",
    "wd_tst2 = np.array(wd_tst2)\n",
    "wd_tst3 = np.array(wd_tst3)"
   ]
  },
  {
   "cell_type": "code",
   "execution_count": 6,
   "id": "cb2cc25f",
   "metadata": {},
   "outputs": [
    {
     "name": "stdout",
     "output_type": "stream",
     "text": [
      "(3, 4096, 97)\n",
      "<class 'numpy.ndarray'>\n"
     ]
    }
   ],
   "source": [
    "print(np.shape(wd_val))\n",
    "print(type(wd_val))"
   ]
  },
  {
   "cell_type": "code",
   "execution_count": null,
   "id": "46503bc4",
   "metadata": {},
   "outputs": [],
   "source": []
  },
  {
   "cell_type": "code",
   "execution_count": 1,
   "id": "b2fc35bd",
   "metadata": {},
   "outputs": [
    {
     "ename": "NameError",
     "evalue": "name 'os' is not defined",
     "output_type": "error",
     "traceback": [
      "\u001b[1;31m---------------------------------------------------------------------------\u001b[0m",
      "\u001b[1;31mNameError\u001b[0m                                 Traceback (most recent call last)",
      "Cell \u001b[1;32mIn[1], line 7\u001b[0m\n\u001b[0;32m      4\u001b[0m train_url \u001b[38;5;241m=\u001b[39m \u001b[38;5;124m\"\u001b[39m\u001b[38;5;124mhttps://surfdrive.surf.nl/files/index.php/s/MuqoiGK01uTHf8o/download\u001b[39m\u001b[38;5;124m\"\u001b[39m\n\u001b[0;32m      5\u001b[0m test_url \u001b[38;5;241m=\u001b[39m \u001b[38;5;124m\"\u001b[39m\u001b[38;5;124mhttps://surfdrive.surf.nl/files/index.php/s/NzyS6uSVEB2yg0B/download\u001b[39m\u001b[38;5;124m\"\u001b[39m\n\u001b[1;32m----> 7\u001b[0m \u001b[38;5;28;01mif\u001b[39;00m \u001b[38;5;129;01mnot\u001b[39;00m \u001b[43mos\u001b[49m\u001b[38;5;241m.\u001b[39mpath\u001b[38;5;241m.\u001b[39misfile(train_file):\n\u001b[0;32m      8\u001b[0m     \u001b[38;5;28mprint\u001b[39m(\u001b[38;5;124m\"\u001b[39m\u001b[38;5;124mDownloading FAT dataset...\u001b[39m\u001b[38;5;124m\"\u001b[39m)\n\u001b[0;32m      9\u001b[0m     urlretrieve(train_url, \u001b[38;5;124m\"\u001b[39m\u001b[38;5;124mtrain.pk\u001b[39m\u001b[38;5;124m\"\u001b[39m)\n",
      "\u001b[1;31mNameError\u001b[0m: name 'os' is not defined"
     ]
    }
   ],
   "source": []
  },
  {
   "cell_type": "code",
   "execution_count": null,
   "id": "d05d8537",
   "metadata": {},
   "outputs": [],
   "source": []
  }
 ],
 "metadata": {
  "kernelspec": {
   "display_name": "Python 3 (ipykernel)",
   "language": "python",
   "name": "python3"
  },
  "language_info": {
   "codemirror_mode": {
    "name": "ipython",
    "version": 3
   },
   "file_extension": ".py",
   "mimetype": "text/x-python",
   "name": "python",
   "nbconvert_exporter": "python",
   "pygments_lexer": "ipython3",
   "version": "3.9.17"
  }
 },
 "nbformat": 4,
 "nbformat_minor": 5
}

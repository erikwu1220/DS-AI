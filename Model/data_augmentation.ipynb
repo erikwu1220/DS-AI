{
 "cells": [
  {
   "cell_type": "code",
   "execution_count": 1,
   "metadata": {},
   "outputs": [],
   "source": [
    "import numpy as np\n",
    "import matplotlib.pyplot as plt\n",
    "\n",
    "from simulation import Simulation\n",
    "from augmentation_pipeline import AugmentationPipeline"
   ]
  },
  {
   "cell_type": "markdown",
   "metadata": {},
   "source": [
    "First, we identiy all files in the directory. (to-do, once data normalization is finished)"
   ]
  },
  {
   "cell_type": "markdown",
   "metadata": {},
   "source": [
    "##### Steps\n",
    "1. Create a simulation object\n",
    "2. Create a pipeline. This pipeline is randomized upon creation.\n",
    "3. Create a new simulation object from this pipeline.\n",
    "4. Check if the new simulation object is not the same as the original (by random chance).\n",
    "    - If it is the same, try again.\n",
    "5. From each simulation, create 4 new (augmented simulations).\n",
    "6. Save the simulations."
   ]
  },
  {
   "cell_type": "code",
   "execution_count": 2,
   "metadata": {},
   "outputs": [
    {
     "ename": "KeyboardInterrupt",
     "evalue": "",
     "output_type": "error",
     "traceback": [
      "\u001b[1;31m---------------------------------------------------------------------------\u001b[0m",
      "\u001b[1;31mKeyboardInterrupt\u001b[0m                         Traceback (most recent call last)",
      "Cell \u001b[1;32mIn[2], line 25\u001b[0m\n\u001b[0;32m     22\u001b[0m     \u001b[38;5;66;03m# Calculate sum of square differences to make sure we did not generate the same data again.\u001b[39;00m\n\u001b[0;32m     23\u001b[0m     eps \u001b[38;5;241m=\u001b[39m np\u001b[38;5;241m.\u001b[39msum((sim\u001b[38;5;241m.\u001b[39mtopography \u001b[38;5;241m-\u001b[39m aug_sim\u001b[38;5;241m.\u001b[39mtopography)\u001b[38;5;241m*\u001b[39m\u001b[38;5;241m*\u001b[39m\u001b[38;5;241m2\u001b[39m)\n\u001b[1;32m---> 25\u001b[0m \u001b[43maug_sim\u001b[49m\u001b[38;5;241;43m.\u001b[39;49m\u001b[43msave_simulation\u001b[49m\u001b[43m(\u001b[49m\u001b[43mstore_augmented_data_folder\u001b[49m\u001b[43m,\u001b[49m\u001b[43m \u001b[49m\u001b[38;5;124;43mf\u001b[39;49m\u001b[38;5;124;43m\"\u001b[39;49m\u001b[38;5;132;43;01m{\u001b[39;49;00m\u001b[43msim_number\u001b[49m\u001b[38;5;132;43;01m}\u001b[39;49;00m\u001b[38;5;124;43m_\u001b[39;49m\u001b[38;5;132;43;01m{\u001b[39;49;00m\u001b[43mcopy\u001b[49m\u001b[38;5;132;43;01m}\u001b[39;49;00m\u001b[38;5;124;43m\"\u001b[39;49m\u001b[43m)\u001b[49m\n\u001b[0;32m     27\u001b[0m plot \u001b[38;5;241m=\u001b[39m \u001b[38;5;28;01mFalse\u001b[39;00m\n\u001b[0;32m     28\u001b[0m \u001b[38;5;66;03m# Plot every 10th generated simulation.\u001b[39;00m\n",
      "File \u001b[1;32mc:\\Users\\pjdeb\\OneDrive\\Documenten\\Universiteit\\CT 5\\Q2\\Unit 3\\DS-AI\\Model\\simulation.py:74\u001b[0m, in \u001b[0;36mSimulation.save_simulation\u001b[1;34m(self, save_folder, sim_number)\u001b[0m\n\u001b[0;32m     72\u001b[0m np\u001b[38;5;241m.\u001b[39msavetxt(\u001b[38;5;124mf\u001b[39m\u001b[38;5;124m\"\u001b[39m\u001b[38;5;132;01m{\u001b[39;00msave_folder\u001b[38;5;132;01m}\u001b[39;00m\u001b[38;5;130;01m\\\\\u001b[39;00m\u001b[38;5;124mDEM\u001b[39m\u001b[38;5;130;01m\\\\\u001b[39;00m\u001b[38;5;124mDEM_\u001b[39m\u001b[38;5;132;01m{\u001b[39;00msim_number\u001b[38;5;132;01m}\u001b[39;00m\u001b[38;5;124m.txt\u001b[39m\u001b[38;5;124m\"\u001b[39m, dem\u001b[38;5;241m.\u001b[39mT)\n\u001b[0;32m     73\u001b[0m np\u001b[38;5;241m.\u001b[39msavetxt(\u001b[38;5;124mf\u001b[39m\u001b[38;5;124m\"\u001b[39m\u001b[38;5;132;01m{\u001b[39;00msave_folder\u001b[38;5;132;01m}\u001b[39;00m\u001b[38;5;130;01m\\\\\u001b[39;00m\u001b[38;5;124mWD\u001b[39m\u001b[38;5;130;01m\\\\\u001b[39;00m\u001b[38;5;124mWD_\u001b[39m\u001b[38;5;132;01m{\u001b[39;00msim_number\u001b[38;5;132;01m}\u001b[39;00m\u001b[38;5;124m.txt\u001b[39m\u001b[38;5;124m\"\u001b[39m, \u001b[38;5;28mself\u001b[39m\u001b[38;5;241m.\u001b[39mwd\u001b[38;5;241m.\u001b[39mreshape(\u001b[38;5;241m-\u001b[39m\u001b[38;5;241m1\u001b[39m))\n\u001b[1;32m---> 74\u001b[0m \u001b[43mnp\u001b[49m\u001b[38;5;241;43m.\u001b[39;49m\u001b[43msavetxt\u001b[49m\u001b[43m(\u001b[49m\u001b[38;5;124;43mf\u001b[39;49m\u001b[38;5;124;43m\"\u001b[39;49m\u001b[38;5;132;43;01m{\u001b[39;49;00m\u001b[43msave_folder\u001b[49m\u001b[38;5;132;43;01m}\u001b[39;49;00m\u001b[38;5;130;43;01m\\\\\u001b[39;49;00m\u001b[38;5;124;43mVX\u001b[39;49m\u001b[38;5;130;43;01m\\\\\u001b[39;49;00m\u001b[38;5;124;43mVX_\u001b[39;49m\u001b[38;5;132;43;01m{\u001b[39;49;00m\u001b[43msim_number\u001b[49m\u001b[38;5;132;43;01m}\u001b[39;49;00m\u001b[38;5;124;43m.txt\u001b[39;49m\u001b[38;5;124;43m\"\u001b[39;49m\u001b[43m,\u001b[49m\u001b[43m \u001b[49m\u001b[38;5;28;43mself\u001b[39;49m\u001b[38;5;241;43m.\u001b[39;49m\u001b[43mvx\u001b[49m\u001b[38;5;241;43m.\u001b[39;49m\u001b[43mreshape\u001b[49m\u001b[43m(\u001b[49m\u001b[38;5;241;43m-\u001b[39;49m\u001b[38;5;241;43m1\u001b[39;49m\u001b[43m)\u001b[49m\u001b[43m)\u001b[49m\n\u001b[0;32m     75\u001b[0m np\u001b[38;5;241m.\u001b[39msavetxt(\u001b[38;5;124mf\u001b[39m\u001b[38;5;124m\"\u001b[39m\u001b[38;5;132;01m{\u001b[39;00msave_folder\u001b[38;5;132;01m}\u001b[39;00m\u001b[38;5;130;01m\\\\\u001b[39;00m\u001b[38;5;124mvy\u001b[39m\u001b[38;5;130;01m\\\\\u001b[39;00m\u001b[38;5;124mvy_\u001b[39m\u001b[38;5;132;01m{\u001b[39;00msim_number\u001b[38;5;132;01m}\u001b[39;00m\u001b[38;5;124m.txt\u001b[39m\u001b[38;5;124m\"\u001b[39m, \u001b[38;5;28mself\u001b[39m\u001b[38;5;241m.\u001b[39mvy\u001b[38;5;241m.\u001b[39mreshape(\u001b[38;5;241m-\u001b[39m\u001b[38;5;241m1\u001b[39m))\n\u001b[0;32m     77\u001b[0m \u001b[38;5;28;01mreturn\u001b[39;00m\n",
      "File \u001b[1;32m<__array_function__ internals>:200\u001b[0m, in \u001b[0;36msavetxt\u001b[1;34m(*args, **kwargs)\u001b[0m\n",
      "File \u001b[1;32mc:\\Users\\pjdeb\\Anaconda3\\envs\\dsaie\\lib\\site-packages\\numpy\\lib\\npyio.py:1613\u001b[0m, in \u001b[0;36msavetxt\u001b[1;34m(fname, X, fmt, delimiter, newline, header, footer, comments, encoding)\u001b[0m\n\u001b[0;32m   1609\u001b[0m         \u001b[38;5;28;01mexcept\u001b[39;00m \u001b[38;5;167;01mTypeError\u001b[39;00m \u001b[38;5;28;01mas\u001b[39;00m e:\n\u001b[0;32m   1610\u001b[0m             \u001b[38;5;28;01mraise\u001b[39;00m \u001b[38;5;167;01mTypeError\u001b[39;00m(\u001b[38;5;124m\"\u001b[39m\u001b[38;5;124mMismatch between array dtype (\u001b[39m\u001b[38;5;124m'\u001b[39m\u001b[38;5;132;01m%s\u001b[39;00m\u001b[38;5;124m'\u001b[39m\u001b[38;5;124m) and \u001b[39m\u001b[38;5;124m\"\u001b[39m\n\u001b[0;32m   1611\u001b[0m                             \u001b[38;5;124m\"\u001b[39m\u001b[38;5;124mformat specifier (\u001b[39m\u001b[38;5;124m'\u001b[39m\u001b[38;5;132;01m%s\u001b[39;00m\u001b[38;5;124m'\u001b[39m\u001b[38;5;124m)\u001b[39m\u001b[38;5;124m\"\u001b[39m\n\u001b[0;32m   1612\u001b[0m                             \u001b[38;5;241m%\u001b[39m (\u001b[38;5;28mstr\u001b[39m(X\u001b[38;5;241m.\u001b[39mdtype), \u001b[38;5;28mformat\u001b[39m)) \u001b[38;5;28;01mfrom\u001b[39;00m \u001b[38;5;21;01me\u001b[39;00m\n\u001b[1;32m-> 1613\u001b[0m         \u001b[43mfh\u001b[49m\u001b[38;5;241;43m.\u001b[39;49m\u001b[43mwrite\u001b[49m\u001b[43m(\u001b[49m\u001b[43mv\u001b[49m\u001b[43m)\u001b[49m\n\u001b[0;32m   1615\u001b[0m \u001b[38;5;28;01mif\u001b[39;00m \u001b[38;5;28mlen\u001b[39m(footer) \u001b[38;5;241m>\u001b[39m \u001b[38;5;241m0\u001b[39m:\n\u001b[0;32m   1616\u001b[0m     footer \u001b[38;5;241m=\u001b[39m footer\u001b[38;5;241m.\u001b[39mreplace(\u001b[38;5;124m'\u001b[39m\u001b[38;5;130;01m\\n\u001b[39;00m\u001b[38;5;124m'\u001b[39m, \u001b[38;5;124m'\u001b[39m\u001b[38;5;130;01m\\n\u001b[39;00m\u001b[38;5;124m'\u001b[39m \u001b[38;5;241m+\u001b[39m comments)\n",
      "\u001b[1;31mKeyboardInterrupt\u001b[0m: "
     ]
    }
   ],
   "source": [
    "save_folder = \"../data/raw_datasets\"\n",
    "\n",
    "# Second part is for if we also want to include test 1, 2 and 3.\n",
    "sim_numbers = list(range(1, 80+1)) # + list(range(500,519+1)) + list(range(10000, 10020+1)) + list(range(15001, 15010+1))\n",
    "grid_sizes = 80 * [64] # + 20 * [64] + 21 * [64] + 10 * [128]\n",
    "\n",
    "store_augmented_data_folder = \"../data/augmented_data\"\n",
    "\n",
    "for sim_number, number_grids in zip(sim_numbers, grid_sizes):\n",
    "    # Load a simulation\n",
    "    sim = Simulation.load_simulation(save_folder, sim_number, number_grids)\n",
    "    sim.save_simulation(store_augmented_data_folder, f\"{sim_number}_o\")\n",
    "\n",
    "    for copy in [\"a\", \"b\", \"c\", \"d\"]:\n",
    "\n",
    "        # eps is the sum of squared differences between the newly generated topography and the old topography. \n",
    "        # If this is 0, the pipeline should re-run.\n",
    "        eps = 0\n",
    "        while eps < 1e-10:\n",
    "            # Randomly initialize an augmentation\n",
    "            aug_pipeline = AugmentationPipeline()\n",
    "            aug_sim = aug_pipeline.transform_simulation(sim)\n",
    "\n",
    "            # Calculate sum of square differences to make sure we did not generate the same data again.\n",
    "            eps = np.sum((sim.topography - aug_sim.topography)**2)\n",
    "        \n",
    "        aug_sim.save_simulation(store_augmented_data_folder, f\"{sim_number}_{copy}\")\n",
    "\n",
    "        plot = False\n",
    "        # Plot every 10th generated simulation.\n",
    "        if (sim_number%10==0 and plot):\n",
    "            fig, axs = plt.subplots(1,2,figsize=(8,4))\n",
    "            axs[0].imshow(sim.topography, cmap=\"terrain\", origin=\"lower\")\n",
    "            axs[1].imshow(aug_sim.topography, cmap=\"terrain\", origin=\"lower\")\n",
    "            \n",
    "            axs[0].set_title(\"Original\")\n",
    "            axs[1].set_title(\"Augmented\")"
   ]
  },
  {
   "cell_type": "code",
   "execution_count": null,
   "metadata": {},
   "outputs": [],
   "source": [
    "# aug_sim.save_simulation(store_augmented_data_folder, sim_number)"
   ]
  }
 ],
 "metadata": {
  "kernelspec": {
   "display_name": "dsaie",
   "language": "python",
   "name": "python3"
  },
  "language_info": {
   "codemirror_mode": {
    "name": "ipython",
    "version": 3
   },
   "file_extension": ".py",
   "mimetype": "text/x-python",
   "name": "python",
   "nbconvert_exporter": "python",
   "pygments_lexer": "ipython3",
   "version": "3.9.17"
  }
 },
 "nbformat": 4,
 "nbformat_minor": 2
}

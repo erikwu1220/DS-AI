{
 "cells": [
  {
   "cell_type": "markdown",
   "id": "53f873a8-fa90-473e-b8a2-0953a1dd6a98",
   "metadata": {},
   "source": [
    "### Training, validation & test data"
   ]
  },
  {
   "cell_type": "code",
   "execution_count": null,
   "id": "153d4f89-9709-420c-97fc-747824596cd6",
   "metadata": {},
   "outputs": [],
   "source": []
  },
  {
   "cell_type": "markdown",
   "id": "08d21d0f-c6e7-4a5d-92aa-2f51935b13c1",
   "metadata": {},
   "source": [
    "### Data augmentation"
   ]
  },
  {
   "cell_type": "code",
   "execution_count": null,
   "id": "896bbf38-8a28-43e8-81a1-ec3b1c312163",
   "metadata": {},
   "outputs": [],
   "source": []
  }
 ],
 "metadata": {
  "kernelspec": {
   "display_name": "Python 3 (ipykernel)",
   "language": "python",
   "name": "python3"
  },
  "language_info": {
   "codemirror_mode": {
    "name": "ipython",
    "version": 3
   },
   "file_extension": ".py",
   "mimetype": "text/x-python",
   "name": "python",
   "nbconvert_exporter": "python",
   "pygments_lexer": "ipython3",
   "version": "3.11.6"
  }
 },
 "nbformat": 4,
 "nbformat_minor": 5
}

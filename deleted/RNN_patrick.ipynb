{
 "cells": [
  {
   "cell_type": "code",
   "execution_count": null,
   "metadata": {},
   "outputs": [],
   "source": [
    "import torch\n",
    "import torch.nn as nn\n",
    "import torch.optim as optim\n",
    "from torch.utils.data import DataLoader, TensorDataset\n",
    "import torch.nn.functional as F\n",
    "import numpy as np\n",
    "\n",
    "from simulation import Simulation"
   ]
  },
  {
   "cell_type": "code",
   "execution_count": 5,
   "metadata": {},
   "outputs": [
    {
     "name": "stdout",
     "output_type": "stream",
     "text": [
      "[<simulation.Simulation object at 0x0000021FD0BF80D0>, <simulation.Simulation object at 0x0000021FDA120F40>, <simulation.Simulation object at 0x0000021FDA138160>, <simulation.Simulation object at 0x0000021FDA150AC0>, <simulation.Simulation object at 0x0000021FDA150AF0>, <simulation.Simulation object at 0x0000021FD2972EB0>, <simulation.Simulation object at 0x0000021FD2972D90>, <simulation.Simulation object at 0x0000021FC8AF22E0>, <simulation.Simulation object at 0x0000021FD1263C40>, <simulation.Simulation object at 0x0000021FDA166D90>]\n",
      "[<simulation.Simulation object at 0x0000021FD0BF80D0>\n",
      " <simulation.Simulation object at 0x0000021FDA120F40>\n",
      " <simulation.Simulation object at 0x0000021FDA138160>\n",
      " <simulation.Simulation object at 0x0000021FDA150AC0>\n",
      " <simulation.Simulation object at 0x0000021FDA150AF0>\n",
      " <simulation.Simulation object at 0x0000021FD2972EB0>\n",
      " <simulation.Simulation object at 0x0000021FD2972D90>\n",
      " <simulation.Simulation object at 0x0000021FC8AF22E0>\n",
      " <simulation.Simulation object at 0x0000021FD1263C40>\n",
      " <simulation.Simulation object at 0x0000021FDA166D90>]\n"
     ]
    }
   ],
   "source": [
    "# Load training data\n",
    "num_sims = 10\n",
    "\n",
    "sims = Simulation.load_simulations(\"..\\\\data\\\\processed_data\\\\normalized_training_data\", 10, 64)\n",
    "print(sims)\n",
    "X_tra = np.array(sims)\n",
    "\n",
    "print(X_tra)\n",
    "\n",
    "# # Load validation data \n",
    "# num_sims = 5\n",
    "# sims = []\n",
    "\n",
    "# for i in range(num_sims):\n",
    "#     sims.append(Simulation.load_simulation(\"..//data//normalized_training_data\", i, 64))\n",
    "    \n",
    "# X_tra = np.array(sims)\n",
    "\n",
    "# # Load test data\n",
    "# num_sims = 10\n",
    "# for i in range(num_sims):\n",
    "#     sims.append(Simulation.load_simulation(\"..//data//normalized_training_data\", i, 64))\n",
    "    \n",
    "# X_tra = np.array(sims)"
   ]
  },
  {
   "cell_type": "code",
   "execution_count": null,
   "metadata": {},
   "outputs": [],
   "source": [
    "# %matplotlib ipympl\n",
    "\n",
    "# Plot the scaled data\n",
    "# sims[0].plot_animation()"
   ]
  },
  {
   "cell_type": "code",
   "execution_count": null,
   "metadata": {},
   "outputs": [],
   "source": [
    "class RNN_floods(nn.Module):\n",
    "    def __init__(self, hidden_size, output_size):\n",
    "        super(RNN_floods, self).__init__()\n",
    "        # RNN layer\n",
    "        self.rnn = nn.RNN(input_size=1, hidden_size=hidden_size, batch_first=True)\n",
    "\n",
    "        # Output layer\n",
    "        self.fc = nn.Linear(hidden_size, output_size)\n",
    "\n",
    "    def forward(self, x):\n",
    "        # Reshape input to have feature dimension of 1\n",
    "        x = x.unsqueeze(-1)   # Assuming input x has shape (batch, sequence)\n",
    "\n",
    "        # RNN layer\n",
    "        x, hn = self.rnn(x)   # We do not need the hidden states hn\n",
    "\n",
    "        # Select the output of the last time step\n",
    "        x = x[:, -1, :]\n",
    "\n",
    "        # Output layer\n",
    "        x = self.fc(x)\n",
    "\n",
    "        return x"
   ]
  },
  {
   "cell_type": "code",
   "execution_count": null,
   "metadata": {},
   "outputs": [],
   "source": []
  },
  {
   "cell_type": "code",
   "execution_count": null,
   "metadata": {},
   "outputs": [],
   "source": [
    "# For simplicity, let's assume you have a tensor 'grids' with shape (num_samples, 90, 4, grid_size, grid_size)\n",
    "# representing subsequent grids at each timestep\n",
    "\n",
    "# grids = ...  # Load your grids\n",
    "\n",
    "sims = [sim1, sim2]\n",
    "\n",
    "array = np.zeros((2, 97, 4, 64, 64))\n",
    "for sim in range(2):\n",
    "    for t in range(97):\n",
    "        array[sim, t, 0] = sims[sim].topography\n",
    "        array[sim, t, 1] = sims[sim].wd[t]\n",
    "        array[sim, t, 2] = sims[sim].vx[t]\n",
    "        array[sim, t, 3] = sims[sim].vy[t]\n",
    "\n",
    "grids = torch.tensor(array, dtype=torch.float32)\n",
    "print(grids.shape)"
   ]
  },
  {
   "cell_type": "code",
   "execution_count": null,
   "metadata": {},
   "outputs": [],
   "source": [
    "def evaluate_model(model, test_loader, criterion, device):\n",
    "    model.eval()  # Set the model to evaluation mode\n",
    "    test_loss = 0\n",
    "\n",
    "    with torch.no_grad():  # No need to track gradients during evaluation\n",
    "        for inputs, targets in test_loader:\n",
    "            inputs, targets = inputs.to(device), targets.to(device)\n",
    "            outputs = model(inputs)\n",
    "            loss = criterion(outputs, targets)\n",
    "            test_loss += loss.item()\n",
    "\n",
    "    avg_test_loss = test_loss / len(test_loader)\n",
    "    return avg_test_loss\n",
    "\n",
    "def train_and_validate(model, train_loader, val_loader, criterion, optimizer, num_epochs, device, save_path):\n",
    "    best_val_loss = float(\"inf\")  # Track the best validation loss\n",
    "    train_losses = []\n",
    "    val_losses = []\n",
    "\n",
    "    start_time = time.time()  # Start training time\n",
    "\n",
    "    for epoch in range(num_epochs):\n",
    "        # Training Phase\n",
    "        model.train()\n",
    "        total_train_loss = 0\n",
    "        for inputs, targets in train_loader:\n",
    "            inputs, targets = inputs.to(device), targets.to(device)\n",
    "            optimizer.zero_grad()\n",
    "            outputs = model(inputs)\n",
    "            loss = criterion(outputs, targets)\n",
    "            loss.backward()\n",
    "            optimizer.step()\n",
    "            total_train_loss += loss.item()\n",
    "\n",
    "        avg_train_loss = total_train_loss / len(train_loader)\n",
    "        train_losses.append(avg_train_loss)\n",
    "\n",
    "        # Validation Phase\n",
    "        avg_val_loss = evaluate_model(model, val_loader, criterion, device)\n",
    "        val_losses.append(avg_val_loss)\n",
    "\n",
    "        # Save Best Model\n",
    "        if avg_val_loss < best_val_loss:\n",
    "            best_val_loss = avg_val_loss\n",
    "            torch.save(model.state_dict(), save_path)\n",
    "\n",
    "        if (epoch + 1) % 20 == 0:\n",
    "            print(f'Epoch {epoch+1}/{num_epochs}', f'Train Loss: {avg_train_loss:.4f}, '\n",
    "                  f'Validation Loss: {avg_val_loss:.4f}', f'Best Validation Loss: {best_val_loss:.4f}')\n",
    "    train_time = time.time() - start_time\n",
    "    print(\"Training complete.\")\n",
    "    return train_losses, val_losses, best_val_loss, train_time"
   ]
  },
  {
   "cell_type": "code",
   "execution_count": null,
   "metadata": {},
   "outputs": [],
   "source": [
    "train_dataset = TensorDataset(torch.tensor(X_tra, dtype=torch.float32), torch.tensor(Y_tra, dtype=torch.float32))\n",
    "val_dataset = TensorDataset(torch.tensor(X_val, dtype=torch.float32), torch.tensor(Y_val, dtype=torch.float32))\n",
    "test_dataset = TensorDataset(torch.tensor(X_tst, dtype=torch.float32), torch.tensor(Y_tst, dtype=torch.float32 ))"
   ]
  },
  {
   "cell_type": "code",
   "execution_count": null,
   "metadata": {},
   "outputs": [],
   "source": []
  }
 ],
 "metadata": {
  "kernelspec": {
   "display_name": "dsaie",
   "language": "python",
   "name": "python3"
  },
  "language_info": {
   "codemirror_mode": {
    "name": "ipython",
    "version": 3
   },
   "file_extension": ".py",
   "mimetype": "text/x-python",
   "name": "python",
   "nbconvert_exporter": "python",
   "pygments_lexer": "ipython3",
   "version": "3.9.17"
  }
 },
 "nbformat": 4,
 "nbformat_minor": 2
}
